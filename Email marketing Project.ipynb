{
 "cells": [
  {
   "cell_type": "code",
   "execution_count": 109,
   "id": "2aebdc04-e48f-40e1-89c8-f194a70ea70e",
   "metadata": {},
   "outputs": [],
   "source": [
    "import numpy as np\n",
    "import pandas as pd\n",
    "import matplotlib.pyplot as plt\n",
    "import seaborn as sns"
   ]
  },
  {
   "cell_type": "code",
   "execution_count": 110,
   "id": "60ac6f91-22a3-4ccc-b21b-e857e5ec9b82",
   "metadata": {},
   "outputs": [
    {
     "data": {
      "text/html": [
       "<div>\n",
       "<style scoped>\n",
       "    .dataframe tbody tr th:only-of-type {\n",
       "        vertical-align: middle;\n",
       "    }\n",
       "\n",
       "    .dataframe tbody tr th {\n",
       "        vertical-align: top;\n",
       "    }\n",
       "\n",
       "    .dataframe thead th {\n",
       "        text-align: right;\n",
       "    }\n",
       "</style>\n",
       "<table border=\"1\" class=\"dataframe\">\n",
       "  <thead>\n",
       "    <tr style=\"text-align: right;\">\n",
       "      <th></th>\n",
       "      <th>Column1</th>\n",
       "      <th>Type</th>\n",
       "      <th>Status</th>\n",
       "      <th>City</th>\n",
       "      <th>State</th>\n",
       "      <th>PostalCode</th>\n",
       "      <th>GenderCode</th>\n",
       "      <th>BirthDate</th>\n",
       "      <th>MaritalStatus</th>\n",
       "      <th>Enrolled on</th>\n",
       "      <th>Living status</th>\n",
       "    </tr>\n",
       "  </thead>\n",
       "  <tbody>\n",
       "    <tr>\n",
       "      <th>0</th>\n",
       "      <td>00005DCC-4E51-41A5-91C5-6635B24C7D17</td>\n",
       "      <td>Business</td>\n",
       "      <td>InActive</td>\n",
       "      <td>NaN</td>\n",
       "      <td>NaN</td>\n",
       "      <td>500024.0</td>\n",
       "      <td>MALE</td>\n",
       "      <td>2018-08-12 17:07:12.430</td>\n",
       "      <td>U</td>\n",
       "      <td>2018-08-12 17:07:12.430</td>\n",
       "      <td>couple with children</td>\n",
       "    </tr>\n",
       "    <tr>\n",
       "      <th>1</th>\n",
       "      <td>0001F49E-9FE7-11e8-9E9C-00505682069A</td>\n",
       "      <td>Individual</td>\n",
       "      <td>Active</td>\n",
       "      <td>Valsad</td>\n",
       "      <td>GUJARAT</td>\n",
       "      <td>396001.0</td>\n",
       "      <td>MALE</td>\n",
       "      <td>1992-11-02 00:00:00.000</td>\n",
       "      <td>M</td>\n",
       "      <td>2018-08-14 18:02:46.000</td>\n",
       "      <td>couple with children</td>\n",
       "    </tr>\n",
       "    <tr>\n",
       "      <th>2</th>\n",
       "      <td>0001F4A2-9FE7-11e8-9E9C-00505682069A</td>\n",
       "      <td>Individual</td>\n",
       "      <td>Active</td>\n",
       "      <td>Secunderabad</td>\n",
       "      <td>TELANGANA</td>\n",
       "      <td>500011.0</td>\n",
       "      <td>FEMALE</td>\n",
       "      <td>1988-11-25 00:00:00.000</td>\n",
       "      <td>M</td>\n",
       "      <td>2018-08-14 18:05:23.000</td>\n",
       "      <td>couple with children</td>\n",
       "    </tr>\n",
       "    <tr>\n",
       "      <th>3</th>\n",
       "      <td>0001F4CD-9FE7-11e8-9E9C-00505682069A</td>\n",
       "      <td>Individual</td>\n",
       "      <td>Active</td>\n",
       "      <td>Nalgonda</td>\n",
       "      <td>TELANGANA</td>\n",
       "      <td>508101.0</td>\n",
       "      <td>MALE</td>\n",
       "      <td>1983-06-13 00:00:00.000</td>\n",
       "      <td>M</td>\n",
       "      <td>2018-08-14 18:37:33.000</td>\n",
       "      <td>couple with children</td>\n",
       "    </tr>\n",
       "    <tr>\n",
       "      <th>4</th>\n",
       "      <td>0001F4DE-9FE7-11e8-9E9C-00505682069A</td>\n",
       "      <td>Individual</td>\n",
       "      <td>Active</td>\n",
       "      <td>Hyderabad</td>\n",
       "      <td>TELANGANA</td>\n",
       "      <td>500028.0</td>\n",
       "      <td>MALE</td>\n",
       "      <td>1975-07-13 00:00:00.000</td>\n",
       "      <td>M</td>\n",
       "      <td>2018-08-14 18:47:00.000</td>\n",
       "      <td>couple with children</td>\n",
       "    </tr>\n",
       "  </tbody>\n",
       "</table>\n",
       "</div>"
      ],
      "text/plain": [
       "                                Column1        Type    Status          City  \\\n",
       "0  00005DCC-4E51-41A5-91C5-6635B24C7D17    Business  InActive           NaN   \n",
       "1  0001F49E-9FE7-11e8-9E9C-00505682069A  Individual    Active        Valsad   \n",
       "2  0001F4A2-9FE7-11e8-9E9C-00505682069A  Individual    Active  Secunderabad   \n",
       "3  0001F4CD-9FE7-11e8-9E9C-00505682069A  Individual    Active      Nalgonda   \n",
       "4  0001F4DE-9FE7-11e8-9E9C-00505682069A  Individual    Active     Hyderabad   \n",
       "\n",
       "       State  PostalCode GenderCode               BirthDate MaritalStatus  \\\n",
       "0        NaN    500024.0       MALE 2018-08-12 17:07:12.430             U   \n",
       "1    GUJARAT    396001.0       MALE 1992-11-02 00:00:00.000             M   \n",
       "2  TELANGANA    500011.0     FEMALE 1988-11-25 00:00:00.000             M   \n",
       "3  TELANGANA    508101.0       MALE 1983-06-13 00:00:00.000             M   \n",
       "4  TELANGANA    500028.0       MALE 1975-07-13 00:00:00.000             M   \n",
       "\n",
       "             Enrolled on          Living status  \n",
       "0 2018-08-12 17:07:12.430  couple with children  \n",
       "1 2018-08-14 18:02:46.000  couple with children  \n",
       "2 2018-08-14 18:05:23.000  couple with children  \n",
       "3 2018-08-14 18:37:33.000  couple with children  \n",
       "4 2018-08-14 18:47:00.000  couple with children  "
      ]
     },
     "execution_count": 110,
     "metadata": {},
     "output_type": "execute_result"
    }
   ],
   "source": [
    "df = pd.read_excel(\"Email Marketing Analysis.xlsx\")\n",
    "df.head()"
   ]
  },
  {
   "cell_type": "code",
   "execution_count": 111,
   "id": "866daf28-bab2-4cee-beaf-f29f0db9af71",
   "metadata": {},
   "outputs": [
    {
     "name": "stdout",
     "output_type": "stream",
     "text": [
      "<class 'pandas.core.frame.DataFrame'>\n",
      "RangeIndex: 10000 entries, 0 to 9999\n",
      "Data columns (total 11 columns):\n",
      " #   Column         Non-Null Count  Dtype         \n",
      "---  ------         --------------  -----         \n",
      " 0   Column1        10000 non-null  object        \n",
      " 1   Type           10000 non-null  object        \n",
      " 2   Status         10000 non-null  object        \n",
      " 3   City           9927 non-null   object        \n",
      " 4   State          9874 non-null   object        \n",
      " 5   PostalCode     9999 non-null   float64       \n",
      " 6   GenderCode     10000 non-null  object        \n",
      " 7   BirthDate      10000 non-null  datetime64[ns]\n",
      " 8   MaritalStatus  10000 non-null  object        \n",
      " 9   Enrolled on    10000 non-null  datetime64[ns]\n",
      " 10  Living status  10000 non-null  object        \n",
      "dtypes: datetime64[ns](2), float64(1), object(8)\n",
      "memory usage: 859.5+ KB\n"
     ]
    }
   ],
   "source": [
    "df.info()"
   ]
  },
  {
   "cell_type": "code",
   "execution_count": 112,
   "id": "f9ffa91b-008d-4d82-a21c-eb91ce2beac2",
   "metadata": {},
   "outputs": [
    {
     "data": {
      "text/plain": [
       "Column1            0\n",
       "Type               0\n",
       "Status             0\n",
       "City              73\n",
       "State            126\n",
       "PostalCode         1\n",
       "GenderCode         0\n",
       "BirthDate          0\n",
       "MaritalStatus      0\n",
       "Enrolled on        0\n",
       "Living status      0\n",
       "dtype: int64"
      ]
     },
     "execution_count": 112,
     "metadata": {},
     "output_type": "execute_result"
    }
   ],
   "source": [
    "df.isnull().sum()"
   ]
  },
  {
   "cell_type": "markdown",
   "id": "f69c7f93-9a14-4f75-b274-b2c95bc9b899",
   "metadata": {},
   "source": [
    "## observation : \n",
    "- \"Enrolled on\" column  is not as per syntax"
   ]
  },
  {
   "cell_type": "code",
   "execution_count": 113,
   "id": "2beacda2-246b-43dd-becb-112b9fb9a705",
   "metadata": {},
   "outputs": [
    {
     "data": {
      "text/plain": [
       "Index(['Column1', 'Type', 'Status', 'City', 'State', 'PostalCode',\n",
       "       'GenderCode', 'BirthDate', 'MaritalStatus', 'Enrolled on ',\n",
       "       'Living status'],\n",
       "      dtype='object')"
      ]
     },
     "execution_count": 113,
     "metadata": {},
     "output_type": "execute_result"
    }
   ],
   "source": [
    "df.columns"
   ]
  },
  {
   "cell_type": "code",
   "execution_count": 114,
   "id": "73719e8d-fbb3-4986-bde9-cd3f739f930e",
   "metadata": {},
   "outputs": [
    {
     "data": {
      "text/plain": [
       "array(['Business', 'Individual'], dtype=object)"
      ]
     },
     "execution_count": 114,
     "metadata": {},
     "output_type": "execute_result"
    }
   ],
   "source": [
    "df['Type'].unique()"
   ]
  },
  {
   "cell_type": "code",
   "execution_count": 115,
   "id": "0619875a-79b5-4768-b599-9902fa77e760",
   "metadata": {},
   "outputs": [
    {
     "data": {
      "text/plain": [
       "Type\n",
       "Individual    9736\n",
       "Business       264\n",
       "Name: count, dtype: int64"
      ]
     },
     "execution_count": 115,
     "metadata": {},
     "output_type": "execute_result"
    }
   ],
   "source": [
    "df['Type'].value_counts()"
   ]
  },
  {
   "cell_type": "code",
   "execution_count": 116,
   "id": "2b37c70d-abd0-4c21-9985-5f3611373be6",
   "metadata": {},
   "outputs": [
    {
     "data": {
      "text/plain": [
       "array(['InActive', 'Active', 'Inactive'], dtype=object)"
      ]
     },
     "execution_count": 116,
     "metadata": {},
     "output_type": "execute_result"
    }
   ],
   "source": [
    "df['Status'].unique()"
   ]
  },
  {
   "cell_type": "markdown",
   "id": "52ec2e53-1b0b-4928-96dc-0c764b2251a9",
   "metadata": {},
   "source": [
    "# observation \n",
    "- status has typo mistakes"
   ]
  },
  {
   "cell_type": "code",
   "execution_count": 117,
   "id": "e820e30e-69b9-4151-9f6e-6b43b3d9539b",
   "metadata": {},
   "outputs": [
    {
     "data": {
      "text/plain": [
       "Status\n",
       "Active      9900\n",
       "InActive      73\n",
       "Inactive      27\n",
       "Name: count, dtype: int64"
      ]
     },
     "execution_count": 117,
     "metadata": {},
     "output_type": "execute_result"
    }
   ],
   "source": [
    "df['Status'].value_counts()"
   ]
  },
  {
   "cell_type": "code",
   "execution_count": 118,
   "id": "a810575c-6a0b-4c54-aa3a-d7a5ee3ac62e",
   "metadata": {},
   "outputs": [
    {
     "data": {
      "text/plain": [
       "array([nan, 'Valsad', 'Secunderabad', 'Nalgonda', 'Hyderabad',\n",
       "       'Nizamabad', 'Guntur', 'Barasat', '24 Parganas', 'Bengaluru',\n",
       "       'New Delhi', 'Karimnagar', 'Kurnool', 'Nashik', 'Mumbai',\n",
       "       'Nellore', 'Lucknow', 'Jaipur City', 'Delhi', 'Chinsurah',\n",
       "       'Guwahati', 'Hyderabad City', 'Goa', 'Gurgaon', 'Thane',\n",
       "       'Vijayawada', 'Ahmedabad', 'Bangalore', 'Sangareddy', 'Ambala',\n",
       "       'Tirupati', 'Peddapalli', 'Kakinada', 'Haveli', 'Chennai',\n",
       "       'Ahmedabad City', 'New Mumbai', 'Pune City', 'West Godavari',\n",
       "       'Jaipur', 'Pune', 'Bhopal', 'Madurai', 'Kengeri', 'Sangli',\n",
       "       'Cachar', 'HYDERABAD', 'Mumbai  East', 'Beed', 'Medak', 'Prakasam',\n",
       "       'Chittoor', 'Adilabad', 'Mumbai  West', 'Wanaparthy',\n",
       "       'Hyderabad South East', 'Thane Central', 'Kolkata', 'Ernakulam',\n",
       "       'Bhubaneswar', 'Warangal', 'Nandyal', 'Mukhed', 'Idukki',\n",
       "       'Krishna', 'Alibag', 'Tambaram', 'Hanamkonda', 'Visakhapatnam',\n",
       "       'Navi Mumbai', 'Hardoi', 'Yerraguntla', 'Bardhaman',\n",
       "       'Mumbai  North', 'Mumbai  North West', 'Peddapuram', 'Chandigarh',\n",
       "       'City', 'Yeotamal', 'Pondicherry', 'Ghaziabad', 'Midnapore',\n",
       "       'Khammam', 'Thanjavur', 'Surat', 'Faridabad', 'Navsari',\n",
       "       'Pune Moffusil', 'Suryapet', 'Chalisgaon', 'Patiala', 'Kodaikanal',\n",
       "       'Panaji', 'Byatarayanapura', 'Mumbai  South', 'Eluru',\n",
       "       'Narasaraopet', 'Anantapur', 'East Godavari', 'Dhanbad',\n",
       "       'Bangalore South', 'Chikamaglur', 'Cuddapah', 'Sandur', 'Jodhpur',\n",
       "       'Dhule', 'Thane West', 'Mumbai North', 'Nagpur City', 'Tenali',\n",
       "       'Share Later', 'Changanacherry', 'Ahmednagar', 'Bangalore East',\n",
       "       'Bidar', 'Ludhiana City', 'Hissar', 'Anakapalle', 'Shillong',\n",
       "       'Chennai City South', 'Maraimalainagar', 'Bhagalpur', 'Koduru',\n",
       "       'Tiruchirappalli', 'Bhimavaram', 'Indore City', 'Kanyakumari',\n",
       "       'Vizianagaram', 'Yeotmal', 'Mahadevapura', 'Nasik', 'Kottayam',\n",
       "       'Mandsaur', 'Hyderabad GPO', 'Thrissur', 'Amravati',\n",
       "       'Gautam Buddha Nagar', 'Nagpur', 'Ozar', 'New Town', 'Ludhiana',\n",
       "       'Mumbai  North East', 'Coimbatore', 'Thodupuzha', 'Kota', 'Meerut',\n",
       "       'Srikakulam', 'Mysore', 'Calcutta', 'Kanuru', 'GUWAHATI',\n",
       "       'Bantumilli', 'Tirur', 'Anand', 'Gulbarga', 'delhi', 'Chandrapur',\n",
       "       'Mandi Dabwali', 'Bareilly', 'Ganganagar', -1, 'Tumkur',\n",
       "       'Virudhunagar', 'HYDrabad', 'PANJIM', 'hyderabad', 'Sahibganj',\n",
       "       'Amritsar', 'Hamirpur', 'Vandavasi', 'Gandhinagar', 'Gyanpur',\n",
       "       'Quilon', 'Bhiwandi', 'Kanpur', 'Partur', 'Patna', 'Cannanore',\n",
       "       'bangalore', 'Bhiwani', 'Himatnagar', 'Erode', 'Sriganganagar',\n",
       "       'Sagar', 'Gudivada', 'Shimoga', 'Jhansi', 'Sriperumbudur',\n",
       "       'Silchar', 'Mahabubnagar', 'Mandi', 'Aurangabad(Maharashtra)',\n",
       "       'Bhilwara', 'Tura', 'Solapur', 'Karur', 'Rajahmundry', 'Proddatur',\n",
       "       'Berhampur', 'NewDelhi', 'Vasai', 'Trivandrum', 'Siliguri',\n",
       "       'Jalgaon', 'Durg', 'Alipore', 'Pappinisseri', 'Vellore',\n",
       "       'Sholapur', 'Vadodara', 'Malapuram', 'Jamnagar', 'Ambala HQ',\n",
       "       'Bangalore HQ', 'Indore', 'Lucknow HQ', 'Pathanamthitta',\n",
       "       'Kanpur City', 'South Karnataka', 'Kochi', 'Karnal', 'Salem',\n",
       "       'Jabalpur', 'Sikkim', 'BHOPAL', 'TIRUVALLUR', 'Bhatinda', 'Akola',\n",
       "       'Bellary', 'Udupi', 'Betul', 'Udaipur', 'Chennai City',\n",
       "       'Singhbhum', 'Nadiad', 'Valpoi', 'Allahabad', 'Udgir', 'Nanded',\n",
       "       'Garividi', 'Kozhikode', 'Channapatna', 'Kandukur', 'Presidency',\n",
       "       'Kolhapur', 'Baramati', 'Mangalore', 'Dimapur', 'Ajmer', 'Calicut',\n",
       "       'Faridkot', 'Sanquelim', 'Ferozpur', 'Balangir', 'Varanasi',\n",
       "       'Katni', 'SECUNDERABAD', 'MYSORE', 'HYD', 'DELHI', 'Hoshiarpur',\n",
       "       'Tiruppur', 'Dehradun', 'Mumbai East', 'Rohtak', 'Kollam',\n",
       "       'kolkata', 'Pedana', 'Rae Bareilly', 'Alwaye', 'Pune City East',\n",
       "       'Tadepalligudem', 'Pauri', 'Latur', 'Jalandhar', 'Ahmedabad HQ',\n",
       "       'Palghat', 'Mavelikara', 'Mumbai West', 'Darjeeling', 'Kurseong',\n",
       "       'Satara', 'CityName', 'Solan', 'Ranchi', 'Kohima', 'ONGOLE',\n",
       "       'Chumukhedima', 'Pali', 'Jamshedpur', 'Nasiyanur', 'Kasargode',\n",
       "       'Murud', 'Calcutta South', 'Dharmavaram', 'Bilaspur', 'Sirsa',\n",
       "       'Gangtok', 'Avadi', 'Margao', 'Dayalbagh', 'Rajkot', 'Motihari',\n",
       "       'Mysuru', 'Jalpaiguri', 'Thalassery', 'New Delhi South West',\n",
       "       'Tirunelveli', 'Pendurthi', 'Wayanad', 'Moradabad', 'Bharuch',\n",
       "       'Rewa', 'Irinjalakuda', 'Faizabad', 'Bhavnagar', 'Dharwar',\n",
       "       'Thiruvallur', 'Chennai City North', 'Aurangabad', 'Perungudi',\n",
       "       'AHMEDABAD', 'BANGALORE', 'BENGALURU', 'Balaghat', 'GURGAON',\n",
       "       'Saltlake', 'Purulia', 'Raipur', 'Aligarh', 'Churu', 'Kailashahar',\n",
       "       'Bijapur', 'Mormugao', 'Amalapuram', 'Cairo', 'Nawadha', 'Dharwad',\n",
       "       'Madhubani', 'Trichur', 'Kapurthala', 'Hazaribagh', 'Kharagpur',\n",
       "       'Pune City West', 'Kheda', 'Saltklake', 'Alwar', 'Chhindwara',\n",
       "       'Ujjain', 'Vashi', 'KONDAPUR', 'Purnea', 'Mumbai G.P.O.', 'Sadar',\n",
       "       'Nuzvid', 'MUMBAI', 'NOIDA', 'BANGLORE', 'RAIPUR', 'Raichur',\n",
       "       'Abohar', 'Belgaum', 'Dharamsala', 'Dindigul', 'Vadakara',\n",
       "       'Mulavukad', 'Bhubaneshwar', 'Avaniapuram', 'PONDICHERRY',\n",
       "       'Kovilpatti', 'Sedam', 'Khandwa', 'Gorakhpur', 'asfd', 'Saidapet',\n",
       "       'Hingoli', 'Changanach', 'Indore Moffusil', 'Chengalpattu',\n",
       "       'Kolkata East', 'Agra', 'Mubarakpur', 'Manjeri', 'Ziro', 'Sonepat',\n",
       "       'Digha', 'Ranip', 'Bangalore West', 'Hindupur'], dtype=object)"
      ]
     },
     "execution_count": 118,
     "metadata": {},
     "output_type": "execute_result"
    }
   ],
   "source": [
    "df['City'].unique()"
   ]
  },
  {
   "cell_type": "code",
   "execution_count": 119,
   "id": "12cd50db-6d70-48b1-b753-326ff0c29995",
   "metadata": {},
   "outputs": [
    {
     "data": {
      "text/plain": [
       "City\n",
       "Hyderabad         2639\n",
       "Secunderabad      2093\n",
       "Mumbai            1498\n",
       "Hyderabad City     976\n",
       "Thane              227\n",
       "                  ... \n",
       "Baramati             1\n",
       "Dimapur              1\n",
       "Ajmer                1\n",
       "Faridkot             1\n",
       "Hindupur             1\n",
       "Name: count, Length: 388, dtype: int64"
      ]
     },
     "execution_count": 119,
     "metadata": {},
     "output_type": "execute_result"
    }
   ],
   "source": [
    "df['City'].value_counts()"
   ]
  },
  {
   "cell_type": "markdown",
   "id": "85822f1e-c91e-4da4-86c3-55e2ecfdafb4",
   "metadata": {},
   "source": [
    "# observation\n",
    "- city names have \"typo\" mistakes"
   ]
  },
  {
   "cell_type": "code",
   "execution_count": 120,
   "id": "8ddee181-ad29-4c20-aebd-25e9a7a18309",
   "metadata": {},
   "outputs": [
    {
     "data": {
      "text/plain": [
       "array([nan, 'GUJARAT', 'TELANGANA', 'ANDHRA PRADESH', 'WEST BENGAL',\n",
       "       'KARNATAKA', 'DELHI', 'MAHARASHTRA', 'UTTAR PRADESH', 'RAJASTHAN',\n",
       "       'ASSAM', 'HARYANA', 'TAMIL NADU', 'MADHYA PRADESH', 'KERALA',\n",
       "       'ODISHA', 'CHANDIGARH', 'PONDICHERRY', 'PUNJAB', 'GOA',\n",
       "       'Telangana', 'JHARKHAND', 'Andhra Pradesh', 'MEGHALAYA', 'BIHAR',\n",
       "       'HIMACHAL PRADESH', 'CHATTISGARH', 'TAMILNADU', 'NAGALAND',\n",
       "       'UTTARAKHAND', 'SIKKIM', 'TRIPURA', 'CHHATTISGARH',\n",
       "       'DAMAN and DIU', 'PUDUCHERRY', 'ARUNACHAL PRADESH'], dtype=object)"
      ]
     },
     "execution_count": 120,
     "metadata": {},
     "output_type": "execute_result"
    }
   ],
   "source": [
    "df['State'].unique()"
   ]
  },
  {
   "cell_type": "markdown",
   "id": "ae24997b-35a4-4c2e-9d25-5eebc4602324",
   "metadata": {},
   "source": [
    "# observation \n",
    "- state have upper and lower case names are repeated"
   ]
  },
  {
   "cell_type": "code",
   "execution_count": 121,
   "id": "82457f7f-5d47-4fef-9696-ab4714382c44",
   "metadata": {},
   "outputs": [
    {
     "data": {
      "text/plain": [
       "State\n",
       "TELANGANA            4304\n",
       "MAHARASHTRA          2236\n",
       "ANDHRA PRADESH       2123\n",
       "KARNATAKA             391\n",
       "DELHI                 150\n",
       "TAMIL NADU            124\n",
       "UTTAR PRADESH          75\n",
       "KERALA                 74\n",
       "HARYANA                70\n",
       "GUJARAT                69\n",
       "WEST BENGAL            54\n",
       "RAJASTHAN              35\n",
       "MADHYA PRADESH         32\n",
       "Telangana              27\n",
       "PUNJAB                 22\n",
       "Andhra Pradesh         12\n",
       "GOA                    11\n",
       "BIHAR                  10\n",
       "JHARKHAND              10\n",
       "ODISHA                  7\n",
       "CHATTISGARH             5\n",
       "ASSAM                   5\n",
       "HIMACHAL PRADESH        4\n",
       "CHANDIGARH              4\n",
       "MEGHALAYA               3\n",
       "PONDICHERRY             3\n",
       "NAGALAND                3\n",
       "UTTARAKHAND             3\n",
       "TRIPURA                 2\n",
       "TAMILNADU               1\n",
       "SIKKIM                  1\n",
       "CHHATTISGARH            1\n",
       "DAMAN and DIU           1\n",
       "PUDUCHERRY              1\n",
       "ARUNACHAL PRADESH       1\n",
       "Name: count, dtype: int64"
      ]
     },
     "execution_count": 121,
     "metadata": {},
     "output_type": "execute_result"
    }
   ],
   "source": [
    "df['State'].value_counts()"
   ]
  },
  {
   "cell_type": "code",
   "execution_count": 122,
   "id": "f025d7e7-a35f-4742-a9ca-ce0421e31b1a",
   "metadata": {},
   "outputs": [
    {
     "data": {
      "text/plain": [
       "array([500024., 396001., 500011., ..., 560073., 560009., 515331.])"
      ]
     },
     "execution_count": 122,
     "metadata": {},
     "output_type": "execute_result"
    }
   ],
   "source": [
    "df['PostalCode'].unique()"
   ]
  },
  {
   "cell_type": "markdown",
   "id": "bfc0279a-e13c-4084-aaea-23e8f865c100",
   "metadata": {},
   "source": [
    "# observation\n",
    "- nan values"
   ]
  },
  {
   "cell_type": "code",
   "execution_count": 123,
   "id": "feee2adf-0e8e-4f69-bf61-4dcaf7e4db18",
   "metadata": {},
   "outputs": [
    {
     "data": {
      "text/plain": [
       "array(['MALE', 'FEMALE', 'OTHER', 'Not Mention'], dtype=object)"
      ]
     },
     "execution_count": 123,
     "metadata": {},
     "output_type": "execute_result"
    }
   ],
   "source": [
    "df['GenderCode'].unique()"
   ]
  },
  {
   "cell_type": "code",
   "execution_count": 124,
   "id": "2d03feed-6e35-4d70-a570-86687d0a380d",
   "metadata": {},
   "outputs": [
    {
     "data": {
      "text/plain": [
       "GenderCode\n",
       "MALE           6887\n",
       "FEMALE         2907\n",
       "Not Mention     189\n",
       "OTHER            17\n",
       "Name: count, dtype: int64"
      ]
     },
     "execution_count": 124,
     "metadata": {},
     "output_type": "execute_result"
    }
   ],
   "source": [
    "df['GenderCode'].value_counts()"
   ]
  },
  {
   "cell_type": "markdown",
   "id": "2b203c5b-06da-4e6a-a937-3fa324f79c8f",
   "metadata": {},
   "source": [
    "# osbervation:\n",
    "- some values are in not mentioned,which gender is"
   ]
  },
  {
   "cell_type": "code",
   "execution_count": 125,
   "id": "fdcb7ed6-8f5e-4759-84c8-7b77e55c4694",
   "metadata": {},
   "outputs": [
    {
     "data": {
      "text/plain": [
       "<DatetimeArray>\n",
       "['2018-08-12 17:07:12.430000',        '1992-11-02 00:00:00',\n",
       "        '1988-11-25 00:00:00',        '1983-06-13 00:00:00',\n",
       "        '1975-07-13 00:00:00',        '1986-08-07 00:00:00',\n",
       "        '1997-05-20 00:00:00',        '1982-06-26 00:00:00',\n",
       "        '1977-06-20 00:00:00',        '1975-07-23 00:00:00',\n",
       " ...\n",
       "        '1992-10-30 00:00:00',        '1992-09-04 00:00:00',\n",
       "        '1975-06-04 00:00:00',        '1961-08-06 00:00:00',\n",
       "        '1986-04-09 00:00:00',        '1989-09-04 00:00:00',\n",
       "        '1987-01-02 00:00:00',        '1987-03-15 00:00:00',\n",
       "        '1978-02-10 00:00:00',        '1984-11-22 00:00:00']\n",
       "Length: 6756, dtype: datetime64[ns]"
      ]
     },
     "execution_count": 125,
     "metadata": {},
     "output_type": "execute_result"
    }
   ],
   "source": [
    "df['BirthDate'].unique()"
   ]
  },
  {
   "cell_type": "code",
   "execution_count": 126,
   "id": "4d02fc8a-77ab-4a08-99e1-6f70d584d04a",
   "metadata": {},
   "outputs": [
    {
     "data": {
      "text/plain": [
       "array(['U', 'M'], dtype=object)"
      ]
     },
     "execution_count": 126,
     "metadata": {},
     "output_type": "execute_result"
    }
   ],
   "source": [
    "df['MaritalStatus'].unique()"
   ]
  },
  {
   "cell_type": "code",
   "execution_count": 127,
   "id": "836091ea-00be-4abb-8832-65828ff787e7",
   "metadata": {},
   "outputs": [
    {
     "data": {
      "text/plain": [
       "MaritalStatus\n",
       "M    9676\n",
       "U     324\n",
       "Name: count, dtype: int64"
      ]
     },
     "execution_count": 127,
     "metadata": {},
     "output_type": "execute_result"
    }
   ],
   "source": [
    "df['MaritalStatus'].value_counts()"
   ]
  },
  {
   "cell_type": "markdown",
   "id": "13cf0f5c-726f-42b0-82dc-62c21fd3f366",
   "metadata": {},
   "source": [
    "# observation:\n",
    "- married are 9676 and unmarried are  324"
   ]
  },
  {
   "cell_type": "code",
   "execution_count": 128,
   "id": "80461820-48ba-4223-9e81-c360bd248b35",
   "metadata": {},
   "outputs": [
    {
     "data": {
      "text/plain": [
       "<DatetimeArray>\n",
       "['2018-08-12 17:07:12.430000',        '2018-08-14 18:02:46',\n",
       "        '2018-08-14 18:05:23',        '2018-08-14 18:37:33',\n",
       "        '2018-08-14 18:47:00',        '2018-08-14 19:33:29',\n",
       "        '2018-08-14 19:59:03',        '2018-08-14 20:05:17',\n",
       "        '2018-08-14 20:15:06',        '2018-08-14 20:19:48',\n",
       " ...\n",
       "        '2018-06-09 02:59:00',        '2018-06-09 02:59:16',\n",
       "        '2018-06-09 03:06:13',        '2018-06-09 03:10:40',\n",
       "        '2018-06-09 03:34:58',        '2018-06-09 03:36:15',\n",
       "        '2018-06-09 03:38:05',        '2018-06-09 03:55:25',\n",
       "        '2018-06-09 04:00:01',        '2018-06-09 04:05:30']\n",
       "Length: 9994, dtype: datetime64[ns]"
      ]
     },
     "execution_count": 128,
     "metadata": {},
     "output_type": "execute_result"
    }
   ],
   "source": [
    "df['Enrolled on '].unique()"
   ]
  },
  {
   "cell_type": "code",
   "execution_count": 129,
   "id": "f6875f24-ef78-41e5-b791-e3d8b526f155",
   "metadata": {},
   "outputs": [
    {
     "data": {
      "text/plain": [
       "9994"
      ]
     },
     "execution_count": 129,
     "metadata": {},
     "output_type": "execute_result"
    }
   ],
   "source": [
    "df['Enrolled on '].nunique()"
   ]
  },
  {
   "cell_type": "code",
   "execution_count": null,
   "id": "a075aedd-eab0-4350-987b-d46d01c192f9",
   "metadata": {},
   "outputs": [],
   "source": []
  },
  {
   "cell_type": "markdown",
   "id": "a677a688-c141-48a7-b75c-6455fa692366",
   "metadata": {},
   "source": [
    "### cleaning\n",
    " - replacing &\n",
    " - removing nulls\n",
    " "
   ]
  },
  {
   "cell_type": "code",
   "execution_count": 130,
   "id": "403c6224-32d5-4cbc-bdce-a715116eb6e7",
   "metadata": {},
   "outputs": [],
   "source": [
    "df.rename(columns={\"Enrolled on \": \"Enrolled_on\"}, inplace=True)"
   ]
  },
  {
   "cell_type": "code",
   "execution_count": 131,
   "id": "ffc323b1-026d-4909-ae33-341c4e75f244",
   "metadata": {},
   "outputs": [],
   "source": [
    "df.loc[df['City'] == 'Hyderabad City', ['City', 'State']] = ['Hyderabad', 'Telengana']\n",
    "df.loc[df['City'] == 'Hyderabad',['City','State']] = ['Hyderabad', 'Telengana']\n",
    "df.loc[df['City'] == 'Secunderabad',['City','State']] = ['Secunderabad','Telengana']\n",
    "df.replace({'BENGALURU':'BANGALORE'},inplace = True)\n",
    "df.replace({'bangalore':'BANGALORE'},inplace = True)\n",
    "df.replace({'CHHATTISGARH':'CHATTISGARH'},inplace = True)\n",
    "df[\"City\"] = df[\"City\"].replace({\n",
    "    \"BANGLORE\": \"BANGALORE\",\n",
    "    \"Bangalore\": \"BANGALORE\",\n",
    "    \"Bengaluru\": \"BANGALORE\",\n",
    "    \"Bhubaneshwar\": \"Bhubaneswar\",\n",
    "    \"Delhi\": \"DELHI\",\n",
    "    \"Dharwar\": \"Dharwad\",\n",
    "    \"HYD\": \"Hyderabad\",\n",
    "    \"HYDERABAD\": \"Hyderabad\",\n",
    "    \"HYDrabad\": \"Hyderabad\",\n",
    "    \"SECUNDERABAD\": \"Secunderabad\",\n",
    "    \"hyderabad\": \"Hyderabad\"})\n",
    "df[\"Status\"] = df[\"Status\"].replace({'InActive':'Inactive'})\n",
    "df['State'] = df['State'].replace({\"Telengana\":\"TELANGANA\"})\n",
    "df.replace({\"TAMILNADU\":\"TAMIL NADU\"},inplace=True)\n",
    "df.replace({\"Not Mention\":\"NA\"},inplace=True)"
   ]
  },
  {
   "cell_type": "code",
   "execution_count": 132,
   "id": "fdd3e2bd-949f-4f48-814d-d1f2f1d9f509",
   "metadata": {},
   "outputs": [],
   "source": [
    "df.drop('Column1', axis=1, inplace=True, errors='ignore')"
   ]
  },
  {
   "cell_type": "markdown",
   "id": "8843d552-648e-4e34-8932-3a78a43a9413",
   "metadata": {},
   "source": [
    "## WHY:\n",
    "- \"CITY\" columns has \"wrong/small/upper\" cases are there,so i replaced with one (upeer/lower ) case.\n",
    "- \"STATE\" columns has wrong/small/upper cases are there,so i replaced with one (upeer/lower ) case.\n",
    "- \"STATUS\" columns has repetaed one \"word with mix letters\",so i \"replaced\" both in one format.\n",
    "- In \"GENDER\" column some are \"not mentioned\",so i replaced with \"NA\" and then i filled with \"mode\". "
   ]
  },
  {
   "cell_type": "code",
   "execution_count": 133,
   "id": "4576adb6-762e-44aa-8802-d57dd18228ee",
   "metadata": {},
   "outputs": [
    {
     "data": {
      "text/plain": [
       "Type               0\n",
       "Status             0\n",
       "City              73\n",
       "State            109\n",
       "PostalCode         1\n",
       "GenderCode         0\n",
       "BirthDate          0\n",
       "MaritalStatus      0\n",
       "Enrolled_on        0\n",
       "Living status      0\n",
       "dtype: int64"
      ]
     },
     "execution_count": 133,
     "metadata": {},
     "output_type": "execute_result"
    }
   ],
   "source": [
    "df.isnull().sum()"
   ]
  },
  {
   "cell_type": "code",
   "execution_count": 134,
   "id": "2fc1e77d-2511-4d63-8b39-b8914df68df4",
   "metadata": {},
   "outputs": [],
   "source": [
    "# Convert \"NA\" to actual NaN\n",
    "df[\"GenderCode\"] = df[\"GenderCode\"].replace(\"NA\", np.nan)\n",
    "df[\"GenderCode\"] = df[\"GenderCode\"].fillna(df[\"GenderCode\"].mode()[0])"
   ]
  },
  {
   "cell_type": "markdown",
   "id": "094bab23-93f3-49f9-a3ce-cd4a2a7d441a",
   "metadata": {},
   "source": [
    "## WHY:\n",
    "- In \"GENDER\" column some are \"not mentioned\",so i replaced with \"NA\" and then i filled with \"mode\". "
   ]
  },
  {
   "cell_type": "code",
   "execution_count": 135,
   "id": "9cef4228-c973-4a44-acd8-9be559b3d295",
   "metadata": {},
   "outputs": [
    {
     "data": {
      "text/plain": [
       "GenderCode\n",
       "MALE      7076\n",
       "FEMALE    2907\n",
       "OTHER       17\n",
       "Name: count, dtype: int64"
      ]
     },
     "execution_count": 135,
     "metadata": {},
     "output_type": "execute_result"
    }
   ],
   "source": [
    "df[\"GenderCode\"].value_counts()"
   ]
  },
  {
   "cell_type": "code",
   "execution_count": 136,
   "id": "73a9b0d1-476d-4c03-b904-2517fbe4ac42",
   "metadata": {},
   "outputs": [
    {
     "data": {
      "text/plain": [
       "Status\n",
       "Active      9900\n",
       "Inactive     100\n",
       "Name: count, dtype: int64"
      ]
     },
     "execution_count": 136,
     "metadata": {},
     "output_type": "execute_result"
    }
   ],
   "source": [
    "df['Status'].value_counts()"
   ]
  },
  {
   "cell_type": "code",
   "execution_count": 137,
   "id": "809be074-fc63-47a0-9922-74a2294e7abc",
   "metadata": {},
   "outputs": [
    {
     "data": {
      "text/plain": [
       "Type               0\n",
       "Status             0\n",
       "City              73\n",
       "State            109\n",
       "PostalCode         1\n",
       "GenderCode         0\n",
       "BirthDate          0\n",
       "MaritalStatus      0\n",
       "Enrolled_on        0\n",
       "Living status      0\n",
       "dtype: int64"
      ]
     },
     "execution_count": 137,
     "metadata": {},
     "output_type": "execute_result"
    }
   ],
   "source": [
    "df.isnull().sum()"
   ]
  },
  {
   "cell_type": "code",
   "execution_count": 138,
   "id": "94dbd888-d348-4760-a6eb-0071aa5b9f49",
   "metadata": {},
   "outputs": [
    {
     "data": {
      "text/html": [
       "<div>\n",
       "<style scoped>\n",
       "    .dataframe tbody tr th:only-of-type {\n",
       "        vertical-align: middle;\n",
       "    }\n",
       "\n",
       "    .dataframe tbody tr th {\n",
       "        vertical-align: top;\n",
       "    }\n",
       "\n",
       "    .dataframe thead th {\n",
       "        text-align: right;\n",
       "    }\n",
       "</style>\n",
       "<table border=\"1\" class=\"dataframe\">\n",
       "  <thead>\n",
       "    <tr style=\"text-align: right;\">\n",
       "      <th></th>\n",
       "      <th>Type</th>\n",
       "      <th>Status</th>\n",
       "      <th>City</th>\n",
       "      <th>State</th>\n",
       "      <th>PostalCode</th>\n",
       "      <th>GenderCode</th>\n",
       "      <th>BirthDate</th>\n",
       "      <th>MaritalStatus</th>\n",
       "      <th>Enrolled_on</th>\n",
       "      <th>Living status</th>\n",
       "    </tr>\n",
       "  </thead>\n",
       "  <tbody>\n",
       "    <tr>\n",
       "      <th>0</th>\n",
       "      <td>Business</td>\n",
       "      <td>Inactive</td>\n",
       "      <td>NaN</td>\n",
       "      <td>NaN</td>\n",
       "      <td>500024.0</td>\n",
       "      <td>MALE</td>\n",
       "      <td>2018-08-12 17:07:12.430</td>\n",
       "      <td>U</td>\n",
       "      <td>2018-08-12 17:07:12.430</td>\n",
       "      <td>couple with children</td>\n",
       "    </tr>\n",
       "    <tr>\n",
       "      <th>451</th>\n",
       "      <td>Business</td>\n",
       "      <td>Inactive</td>\n",
       "      <td>NaN</td>\n",
       "      <td>NaN</td>\n",
       "      <td>248001.0</td>\n",
       "      <td>MALE</td>\n",
       "      <td>2018-09-02 23:07:39.447</td>\n",
       "      <td>U</td>\n",
       "      <td>2018-09-02 23:07:39.430</td>\n",
       "      <td>couple with children</td>\n",
       "    </tr>\n",
       "    <tr>\n",
       "      <th>452</th>\n",
       "      <td>Business</td>\n",
       "      <td>Inactive</td>\n",
       "      <td>NaN</td>\n",
       "      <td>NaN</td>\n",
       "      <td>829121.0</td>\n",
       "      <td>MALE</td>\n",
       "      <td>2018-08-08 21:10:00.513</td>\n",
       "      <td>U</td>\n",
       "      <td>2018-08-08 21:10:00.510</td>\n",
       "      <td>couple with children</td>\n",
       "    </tr>\n",
       "    <tr>\n",
       "      <th>546</th>\n",
       "      <td>Business</td>\n",
       "      <td>Inactive</td>\n",
       "      <td>NaN</td>\n",
       "      <td>NaN</td>\n",
       "      <td>272182.0</td>\n",
       "      <td>MALE</td>\n",
       "      <td>2018-08-21 09:43:50.780</td>\n",
       "      <td>U</td>\n",
       "      <td>2018-08-21 09:43:50.767</td>\n",
       "      <td>couple with children</td>\n",
       "    </tr>\n",
       "    <tr>\n",
       "      <th>547</th>\n",
       "      <td>Business</td>\n",
       "      <td>Inactive</td>\n",
       "      <td>NaN</td>\n",
       "      <td>NaN</td>\n",
       "      <td>396001.0</td>\n",
       "      <td>MALE</td>\n",
       "      <td>2018-09-01 00:25:41.370</td>\n",
       "      <td>U</td>\n",
       "      <td>2018-09-01 00:25:41.363</td>\n",
       "      <td>couple with children</td>\n",
       "    </tr>\n",
       "    <tr>\n",
       "      <th>...</th>\n",
       "      <td>...</td>\n",
       "      <td>...</td>\n",
       "      <td>...</td>\n",
       "      <td>...</td>\n",
       "      <td>...</td>\n",
       "      <td>...</td>\n",
       "      <td>...</td>\n",
       "      <td>...</td>\n",
       "      <td>...</td>\n",
       "      <td>...</td>\n",
       "    </tr>\n",
       "    <tr>\n",
       "      <th>9612</th>\n",
       "      <td>Business</td>\n",
       "      <td>Inactive</td>\n",
       "      <td>NaN</td>\n",
       "      <td>NaN</td>\n",
       "      <td>400064.0</td>\n",
       "      <td>MALE</td>\n",
       "      <td>2018-08-10 12:57:40.290</td>\n",
       "      <td>U</td>\n",
       "      <td>2018-08-10 12:57:40.287</td>\n",
       "      <td>Single/living alone</td>\n",
       "    </tr>\n",
       "    <tr>\n",
       "      <th>9763</th>\n",
       "      <td>Business</td>\n",
       "      <td>Inactive</td>\n",
       "      <td>NaN</td>\n",
       "      <td>NaN</td>\n",
       "      <td>500089.0</td>\n",
       "      <td>MALE</td>\n",
       "      <td>2018-08-03 03:57:57.723</td>\n",
       "      <td>U</td>\n",
       "      <td>2018-08-03 03:57:57.723</td>\n",
       "      <td>couple with children</td>\n",
       "    </tr>\n",
       "    <tr>\n",
       "      <th>9764</th>\n",
       "      <td>Business</td>\n",
       "      <td>Inactive</td>\n",
       "      <td>NaN</td>\n",
       "      <td>NaN</td>\n",
       "      <td>502032.0</td>\n",
       "      <td>MALE</td>\n",
       "      <td>2018-08-10 21:15:59.020</td>\n",
       "      <td>U</td>\n",
       "      <td>2018-08-10 21:15:59.017</td>\n",
       "      <td>couple with children</td>\n",
       "    </tr>\n",
       "    <tr>\n",
       "      <th>9814</th>\n",
       "      <td>Business</td>\n",
       "      <td>Inactive</td>\n",
       "      <td>NaN</td>\n",
       "      <td>NaN</td>\n",
       "      <td>500062.0</td>\n",
       "      <td>MALE</td>\n",
       "      <td>2018-08-10 21:31:41.667</td>\n",
       "      <td>U</td>\n",
       "      <td>2018-08-10 21:31:41.667</td>\n",
       "      <td>couple with children</td>\n",
       "    </tr>\n",
       "    <tr>\n",
       "      <th>9897</th>\n",
       "      <td>Business</td>\n",
       "      <td>Inactive</td>\n",
       "      <td>NaN</td>\n",
       "      <td>NaN</td>\n",
       "      <td>500020.0</td>\n",
       "      <td>MALE</td>\n",
       "      <td>2018-08-11 14:53:01.780</td>\n",
       "      <td>U</td>\n",
       "      <td>2018-08-11 14:53:01.780</td>\n",
       "      <td>Couple without children</td>\n",
       "    </tr>\n",
       "  </tbody>\n",
       "</table>\n",
       "<p>73 rows × 10 columns</p>\n",
       "</div>"
      ],
      "text/plain": [
       "          Type    Status City State  PostalCode GenderCode  \\\n",
       "0     Business  Inactive  NaN   NaN    500024.0       MALE   \n",
       "451   Business  Inactive  NaN   NaN    248001.0       MALE   \n",
       "452   Business  Inactive  NaN   NaN    829121.0       MALE   \n",
       "546   Business  Inactive  NaN   NaN    272182.0       MALE   \n",
       "547   Business  Inactive  NaN   NaN    396001.0       MALE   \n",
       "...        ...       ...  ...   ...         ...        ...   \n",
       "9612  Business  Inactive  NaN   NaN    400064.0       MALE   \n",
       "9763  Business  Inactive  NaN   NaN    500089.0       MALE   \n",
       "9764  Business  Inactive  NaN   NaN    502032.0       MALE   \n",
       "9814  Business  Inactive  NaN   NaN    500062.0       MALE   \n",
       "9897  Business  Inactive  NaN   NaN    500020.0       MALE   \n",
       "\n",
       "                   BirthDate MaritalStatus             Enrolled_on  \\\n",
       "0    2018-08-12 17:07:12.430             U 2018-08-12 17:07:12.430   \n",
       "451  2018-09-02 23:07:39.447             U 2018-09-02 23:07:39.430   \n",
       "452  2018-08-08 21:10:00.513             U 2018-08-08 21:10:00.510   \n",
       "546  2018-08-21 09:43:50.780             U 2018-08-21 09:43:50.767   \n",
       "547  2018-09-01 00:25:41.370             U 2018-09-01 00:25:41.363   \n",
       "...                      ...           ...                     ...   \n",
       "9612 2018-08-10 12:57:40.290             U 2018-08-10 12:57:40.287   \n",
       "9763 2018-08-03 03:57:57.723             U 2018-08-03 03:57:57.723   \n",
       "9764 2018-08-10 21:15:59.020             U 2018-08-10 21:15:59.017   \n",
       "9814 2018-08-10 21:31:41.667             U 2018-08-10 21:31:41.667   \n",
       "9897 2018-08-11 14:53:01.780             U 2018-08-11 14:53:01.780   \n",
       "\n",
       "                Living status  \n",
       "0        couple with children  \n",
       "451      couple with children  \n",
       "452      couple with children  \n",
       "546      couple with children  \n",
       "547      couple with children  \n",
       "...                       ...  \n",
       "9612      Single/living alone  \n",
       "9763     couple with children  \n",
       "9764     couple with children  \n",
       "9814     couple with children  \n",
       "9897  Couple without children  \n",
       "\n",
       "[73 rows x 10 columns]"
      ]
     },
     "execution_count": 138,
     "metadata": {},
     "output_type": "execute_result"
    }
   ],
   "source": [
    "df[df[\"City\"].isnull()]"
   ]
  },
  {
   "cell_type": "code",
   "execution_count": 139,
   "id": "b971eaab-a35c-463a-b55f-47c1217eb4be",
   "metadata": {},
   "outputs": [
    {
     "data": {
      "text/html": [
       "<div>\n",
       "<style scoped>\n",
       "    .dataframe tbody tr th:only-of-type {\n",
       "        vertical-align: middle;\n",
       "    }\n",
       "\n",
       "    .dataframe tbody tr th {\n",
       "        vertical-align: top;\n",
       "    }\n",
       "\n",
       "    .dataframe thead th {\n",
       "        text-align: right;\n",
       "    }\n",
       "</style>\n",
       "<table border=\"1\" class=\"dataframe\">\n",
       "  <thead>\n",
       "    <tr style=\"text-align: right;\">\n",
       "      <th></th>\n",
       "      <th>Type</th>\n",
       "      <th>Status</th>\n",
       "      <th>City</th>\n",
       "      <th>State</th>\n",
       "      <th>PostalCode</th>\n",
       "      <th>GenderCode</th>\n",
       "      <th>BirthDate</th>\n",
       "      <th>MaritalStatus</th>\n",
       "      <th>Enrolled_on</th>\n",
       "      <th>Living status</th>\n",
       "    </tr>\n",
       "  </thead>\n",
       "  <tbody>\n",
       "    <tr>\n",
       "      <th>0</th>\n",
       "      <td>Business</td>\n",
       "      <td>Inactive</td>\n",
       "      <td>NaN</td>\n",
       "      <td>NaN</td>\n",
       "      <td>500024.0</td>\n",
       "      <td>MALE</td>\n",
       "      <td>2018-08-12 17:07:12.430</td>\n",
       "      <td>U</td>\n",
       "      <td>2018-08-12 17:07:12.430</td>\n",
       "      <td>couple with children</td>\n",
       "    </tr>\n",
       "    <tr>\n",
       "      <th>208</th>\n",
       "      <td>Individual</td>\n",
       "      <td>Active</td>\n",
       "      <td>BANGALORE</td>\n",
       "      <td>NaN</td>\n",
       "      <td>NaN</td>\n",
       "      <td>MALE</td>\n",
       "      <td>1984-03-03 00:00:00.000</td>\n",
       "      <td>M</td>\n",
       "      <td>2019-02-08 13:50:58.000</td>\n",
       "      <td>Couple without children</td>\n",
       "    </tr>\n",
       "    <tr>\n",
       "      <th>451</th>\n",
       "      <td>Business</td>\n",
       "      <td>Inactive</td>\n",
       "      <td>NaN</td>\n",
       "      <td>NaN</td>\n",
       "      <td>248001.0</td>\n",
       "      <td>MALE</td>\n",
       "      <td>2018-09-02 23:07:39.447</td>\n",
       "      <td>U</td>\n",
       "      <td>2018-09-02 23:07:39.430</td>\n",
       "      <td>couple with children</td>\n",
       "    </tr>\n",
       "    <tr>\n",
       "      <th>452</th>\n",
       "      <td>Business</td>\n",
       "      <td>Inactive</td>\n",
       "      <td>NaN</td>\n",
       "      <td>NaN</td>\n",
       "      <td>829121.0</td>\n",
       "      <td>MALE</td>\n",
       "      <td>2018-08-08 21:10:00.513</td>\n",
       "      <td>U</td>\n",
       "      <td>2018-08-08 21:10:00.510</td>\n",
       "      <td>couple with children</td>\n",
       "    </tr>\n",
       "    <tr>\n",
       "      <th>546</th>\n",
       "      <td>Business</td>\n",
       "      <td>Inactive</td>\n",
       "      <td>NaN</td>\n",
       "      <td>NaN</td>\n",
       "      <td>272182.0</td>\n",
       "      <td>MALE</td>\n",
       "      <td>2018-08-21 09:43:50.780</td>\n",
       "      <td>U</td>\n",
       "      <td>2018-08-21 09:43:50.767</td>\n",
       "      <td>couple with children</td>\n",
       "    </tr>\n",
       "    <tr>\n",
       "      <th>...</th>\n",
       "      <td>...</td>\n",
       "      <td>...</td>\n",
       "      <td>...</td>\n",
       "      <td>...</td>\n",
       "      <td>...</td>\n",
       "      <td>...</td>\n",
       "      <td>...</td>\n",
       "      <td>...</td>\n",
       "      <td>...</td>\n",
       "      <td>...</td>\n",
       "    </tr>\n",
       "    <tr>\n",
       "      <th>9612</th>\n",
       "      <td>Business</td>\n",
       "      <td>Inactive</td>\n",
       "      <td>NaN</td>\n",
       "      <td>NaN</td>\n",
       "      <td>400064.0</td>\n",
       "      <td>MALE</td>\n",
       "      <td>2018-08-10 12:57:40.290</td>\n",
       "      <td>U</td>\n",
       "      <td>2018-08-10 12:57:40.287</td>\n",
       "      <td>Single/living alone</td>\n",
       "    </tr>\n",
       "    <tr>\n",
       "      <th>9763</th>\n",
       "      <td>Business</td>\n",
       "      <td>Inactive</td>\n",
       "      <td>NaN</td>\n",
       "      <td>NaN</td>\n",
       "      <td>500089.0</td>\n",
       "      <td>MALE</td>\n",
       "      <td>2018-08-03 03:57:57.723</td>\n",
       "      <td>U</td>\n",
       "      <td>2018-08-03 03:57:57.723</td>\n",
       "      <td>couple with children</td>\n",
       "    </tr>\n",
       "    <tr>\n",
       "      <th>9764</th>\n",
       "      <td>Business</td>\n",
       "      <td>Inactive</td>\n",
       "      <td>NaN</td>\n",
       "      <td>NaN</td>\n",
       "      <td>502032.0</td>\n",
       "      <td>MALE</td>\n",
       "      <td>2018-08-10 21:15:59.020</td>\n",
       "      <td>U</td>\n",
       "      <td>2018-08-10 21:15:59.017</td>\n",
       "      <td>couple with children</td>\n",
       "    </tr>\n",
       "    <tr>\n",
       "      <th>9814</th>\n",
       "      <td>Business</td>\n",
       "      <td>Inactive</td>\n",
       "      <td>NaN</td>\n",
       "      <td>NaN</td>\n",
       "      <td>500062.0</td>\n",
       "      <td>MALE</td>\n",
       "      <td>2018-08-10 21:31:41.667</td>\n",
       "      <td>U</td>\n",
       "      <td>2018-08-10 21:31:41.667</td>\n",
       "      <td>couple with children</td>\n",
       "    </tr>\n",
       "    <tr>\n",
       "      <th>9897</th>\n",
       "      <td>Business</td>\n",
       "      <td>Inactive</td>\n",
       "      <td>NaN</td>\n",
       "      <td>NaN</td>\n",
       "      <td>500020.0</td>\n",
       "      <td>MALE</td>\n",
       "      <td>2018-08-11 14:53:01.780</td>\n",
       "      <td>U</td>\n",
       "      <td>2018-08-11 14:53:01.780</td>\n",
       "      <td>Couple without children</td>\n",
       "    </tr>\n",
       "  </tbody>\n",
       "</table>\n",
       "<p>109 rows × 10 columns</p>\n",
       "</div>"
      ],
      "text/plain": [
       "            Type    Status       City State  PostalCode GenderCode  \\\n",
       "0       Business  Inactive        NaN   NaN    500024.0       MALE   \n",
       "208   Individual    Active  BANGALORE   NaN         NaN       MALE   \n",
       "451     Business  Inactive        NaN   NaN    248001.0       MALE   \n",
       "452     Business  Inactive        NaN   NaN    829121.0       MALE   \n",
       "546     Business  Inactive        NaN   NaN    272182.0       MALE   \n",
       "...          ...       ...        ...   ...         ...        ...   \n",
       "9612    Business  Inactive        NaN   NaN    400064.0       MALE   \n",
       "9763    Business  Inactive        NaN   NaN    500089.0       MALE   \n",
       "9764    Business  Inactive        NaN   NaN    502032.0       MALE   \n",
       "9814    Business  Inactive        NaN   NaN    500062.0       MALE   \n",
       "9897    Business  Inactive        NaN   NaN    500020.0       MALE   \n",
       "\n",
       "                   BirthDate MaritalStatus             Enrolled_on  \\\n",
       "0    2018-08-12 17:07:12.430             U 2018-08-12 17:07:12.430   \n",
       "208  1984-03-03 00:00:00.000             M 2019-02-08 13:50:58.000   \n",
       "451  2018-09-02 23:07:39.447             U 2018-09-02 23:07:39.430   \n",
       "452  2018-08-08 21:10:00.513             U 2018-08-08 21:10:00.510   \n",
       "546  2018-08-21 09:43:50.780             U 2018-08-21 09:43:50.767   \n",
       "...                      ...           ...                     ...   \n",
       "9612 2018-08-10 12:57:40.290             U 2018-08-10 12:57:40.287   \n",
       "9763 2018-08-03 03:57:57.723             U 2018-08-03 03:57:57.723   \n",
       "9764 2018-08-10 21:15:59.020             U 2018-08-10 21:15:59.017   \n",
       "9814 2018-08-10 21:31:41.667             U 2018-08-10 21:31:41.667   \n",
       "9897 2018-08-11 14:53:01.780             U 2018-08-11 14:53:01.780   \n",
       "\n",
       "                Living status  \n",
       "0        couple with children  \n",
       "208   Couple without children  \n",
       "451      couple with children  \n",
       "452      couple with children  \n",
       "546      couple with children  \n",
       "...                       ...  \n",
       "9612      Single/living alone  \n",
       "9763     couple with children  \n",
       "9764     couple with children  \n",
       "9814     couple with children  \n",
       "9897  Couple without children  \n",
       "\n",
       "[109 rows x 10 columns]"
      ]
     },
     "execution_count": 139,
     "metadata": {},
     "output_type": "execute_result"
    }
   ],
   "source": [
    "df[df[\"State\"].isnull()]"
   ]
  },
  {
   "cell_type": "code",
   "execution_count": 140,
   "id": "aa3798cb-41a5-47c7-aae5-9f599823096b",
   "metadata": {},
   "outputs": [
    {
     "data": {
      "text/html": [
       "<div>\n",
       "<style scoped>\n",
       "    .dataframe tbody tr th:only-of-type {\n",
       "        vertical-align: middle;\n",
       "    }\n",
       "\n",
       "    .dataframe tbody tr th {\n",
       "        vertical-align: top;\n",
       "    }\n",
       "\n",
       "    .dataframe thead th {\n",
       "        text-align: right;\n",
       "    }\n",
       "</style>\n",
       "<table border=\"1\" class=\"dataframe\">\n",
       "  <thead>\n",
       "    <tr style=\"text-align: right;\">\n",
       "      <th></th>\n",
       "      <th>Type</th>\n",
       "      <th>Status</th>\n",
       "      <th>City</th>\n",
       "      <th>State</th>\n",
       "      <th>PostalCode</th>\n",
       "      <th>GenderCode</th>\n",
       "      <th>BirthDate</th>\n",
       "      <th>MaritalStatus</th>\n",
       "      <th>Enrolled_on</th>\n",
       "      <th>Living status</th>\n",
       "    </tr>\n",
       "  </thead>\n",
       "  <tbody>\n",
       "  </tbody>\n",
       "</table>\n",
       "</div>"
      ],
      "text/plain": [
       "Empty DataFrame\n",
       "Columns: [Type, Status, City, State, PostalCode, GenderCode, BirthDate, MaritalStatus, Enrolled_on, Living status]\n",
       "Index: []"
      ]
     },
     "execution_count": 140,
     "metadata": {},
     "output_type": "execute_result"
    }
   ],
   "source": [
    "df[df[\"City\"].isnull() & df[\"State\"].notnull()]"
   ]
  },
  {
   "cell_type": "code",
   "execution_count": 141,
   "id": "b671c988-f5d4-4d7b-9895-8faa1f848008",
   "metadata": {
    "scrolled": true
   },
   "outputs": [
    {
     "data": {
      "text/html": [
       "<div>\n",
       "<style scoped>\n",
       "    .dataframe tbody tr th:only-of-type {\n",
       "        vertical-align: middle;\n",
       "    }\n",
       "\n",
       "    .dataframe tbody tr th {\n",
       "        vertical-align: top;\n",
       "    }\n",
       "\n",
       "    .dataframe thead th {\n",
       "        text-align: right;\n",
       "    }\n",
       "</style>\n",
       "<table border=\"1\" class=\"dataframe\">\n",
       "  <thead>\n",
       "    <tr style=\"text-align: right;\">\n",
       "      <th></th>\n",
       "      <th>Type</th>\n",
       "      <th>Status</th>\n",
       "      <th>City</th>\n",
       "      <th>State</th>\n",
       "      <th>PostalCode</th>\n",
       "      <th>GenderCode</th>\n",
       "      <th>BirthDate</th>\n",
       "      <th>MaritalStatus</th>\n",
       "      <th>Enrolled_on</th>\n",
       "      <th>Living status</th>\n",
       "    </tr>\n",
       "  </thead>\n",
       "  <tbody>\n",
       "    <tr>\n",
       "      <th>208</th>\n",
       "      <td>Individual</td>\n",
       "      <td>Active</td>\n",
       "      <td>BANGALORE</td>\n",
       "      <td>NaN</td>\n",
       "      <td>NaN</td>\n",
       "      <td>MALE</td>\n",
       "      <td>1984-03-03</td>\n",
       "      <td>M</td>\n",
       "      <td>2019-02-08 13:50:58</td>\n",
       "      <td>Couple without children</td>\n",
       "    </tr>\n",
       "    <tr>\n",
       "      <th>972</th>\n",
       "      <td>Individual</td>\n",
       "      <td>Active</td>\n",
       "      <td>Pune City</td>\n",
       "      <td>NaN</td>\n",
       "      <td>411032.0</td>\n",
       "      <td>MALE</td>\n",
       "      <td>1994-07-05</td>\n",
       "      <td>M</td>\n",
       "      <td>2020-03-01 17:49:14</td>\n",
       "      <td>couple with children</td>\n",
       "    </tr>\n",
       "    <tr>\n",
       "      <th>973</th>\n",
       "      <td>Individual</td>\n",
       "      <td>Active</td>\n",
       "      <td>Mumbai</td>\n",
       "      <td>NaN</td>\n",
       "      <td>400064.0</td>\n",
       "      <td>MALE</td>\n",
       "      <td>1995-06-24</td>\n",
       "      <td>M</td>\n",
       "      <td>2020-03-01 17:59:22</td>\n",
       "      <td>couple with children</td>\n",
       "    </tr>\n",
       "    <tr>\n",
       "      <th>974</th>\n",
       "      <td>Individual</td>\n",
       "      <td>Active</td>\n",
       "      <td>New Mumbai</td>\n",
       "      <td>NaN</td>\n",
       "      <td>410210.0</td>\n",
       "      <td>MALE</td>\n",
       "      <td>1992-09-06</td>\n",
       "      <td>M</td>\n",
       "      <td>2020-03-01 21:10:06</td>\n",
       "      <td>couple with children</td>\n",
       "    </tr>\n",
       "    <tr>\n",
       "      <th>1074</th>\n",
       "      <td>Individual</td>\n",
       "      <td>Active</td>\n",
       "      <td>Share Later</td>\n",
       "      <td>NaN</td>\n",
       "      <td>500001.0</td>\n",
       "      <td>MALE</td>\n",
       "      <td>1985-10-18</td>\n",
       "      <td>M</td>\n",
       "      <td>2018-11-11 13:36:14</td>\n",
       "      <td>Couple without children</td>\n",
       "    </tr>\n",
       "    <tr>\n",
       "      <th>1076</th>\n",
       "      <td>Individual</td>\n",
       "      <td>Active</td>\n",
       "      <td>Share Later</td>\n",
       "      <td>NaN</td>\n",
       "      <td>500001.0</td>\n",
       "      <td>MALE</td>\n",
       "      <td>1982-10-18</td>\n",
       "      <td>M</td>\n",
       "      <td>2018-11-11 13:47:19</td>\n",
       "      <td>Couple without children</td>\n",
       "    </tr>\n",
       "    <tr>\n",
       "      <th>1970</th>\n",
       "      <td>Individual</td>\n",
       "      <td>Active</td>\n",
       "      <td>-1</td>\n",
       "      <td>NaN</td>\n",
       "      <td>110096.0</td>\n",
       "      <td>MALE</td>\n",
       "      <td>1989-10-12</td>\n",
       "      <td>M</td>\n",
       "      <td>2018-07-04 10:23:24</td>\n",
       "      <td>Single/living alone</td>\n",
       "    </tr>\n",
       "    <tr>\n",
       "      <th>1985</th>\n",
       "      <td>Individual</td>\n",
       "      <td>Active</td>\n",
       "      <td>Pune City</td>\n",
       "      <td>NaN</td>\n",
       "      <td>411057.0</td>\n",
       "      <td>MALE</td>\n",
       "      <td>1988-05-08</td>\n",
       "      <td>M</td>\n",
       "      <td>2020-03-01 16:26:37</td>\n",
       "      <td>Single/living alone</td>\n",
       "    </tr>\n",
       "    <tr>\n",
       "      <th>4858</th>\n",
       "      <td>Individual</td>\n",
       "      <td>Active</td>\n",
       "      <td>Thane</td>\n",
       "      <td>NaN</td>\n",
       "      <td>401107.0</td>\n",
       "      <td>MALE</td>\n",
       "      <td>1984-06-07</td>\n",
       "      <td>M</td>\n",
       "      <td>2020-03-03 18:16:41</td>\n",
       "      <td>couple with children</td>\n",
       "    </tr>\n",
       "    <tr>\n",
       "      <th>4859</th>\n",
       "      <td>Individual</td>\n",
       "      <td>Active</td>\n",
       "      <td>Hyderabad South East</td>\n",
       "      <td>NaN</td>\n",
       "      <td>500013.0</td>\n",
       "      <td>MALE</td>\n",
       "      <td>1971-10-14</td>\n",
       "      <td>M</td>\n",
       "      <td>2020-03-04 04:41:56</td>\n",
       "      <td>couple with children</td>\n",
       "    </tr>\n",
       "    <tr>\n",
       "      <th>4860</th>\n",
       "      <td>Individual</td>\n",
       "      <td>Active</td>\n",
       "      <td>Pune City</td>\n",
       "      <td>NaN</td>\n",
       "      <td>411017.0</td>\n",
       "      <td>MALE</td>\n",
       "      <td>1991-04-01</td>\n",
       "      <td>M</td>\n",
       "      <td>2020-03-04 04:58:17</td>\n",
       "      <td>couple with children</td>\n",
       "    </tr>\n",
       "    <tr>\n",
       "      <th>5156</th>\n",
       "      <td>Individual</td>\n",
       "      <td>Active</td>\n",
       "      <td>Mumbai</td>\n",
       "      <td>NaN</td>\n",
       "      <td>400028.0</td>\n",
       "      <td>MALE</td>\n",
       "      <td>1990-07-11</td>\n",
       "      <td>M</td>\n",
       "      <td>2020-03-01 16:17:03</td>\n",
       "      <td>Couple without children</td>\n",
       "    </tr>\n",
       "    <tr>\n",
       "      <th>5157</th>\n",
       "      <td>Individual</td>\n",
       "      <td>Active</td>\n",
       "      <td>Hyderabad South East</td>\n",
       "      <td>NaN</td>\n",
       "      <td>500052.0</td>\n",
       "      <td>MALE</td>\n",
       "      <td>1981-06-10</td>\n",
       "      <td>M</td>\n",
       "      <td>2020-03-01 16:31:51</td>\n",
       "      <td>Couple without children</td>\n",
       "    </tr>\n",
       "    <tr>\n",
       "      <th>5158</th>\n",
       "      <td>Individual</td>\n",
       "      <td>Active</td>\n",
       "      <td>Pune City</td>\n",
       "      <td>NaN</td>\n",
       "      <td>411019.0</td>\n",
       "      <td>FEMALE</td>\n",
       "      <td>1987-10-14</td>\n",
       "      <td>M</td>\n",
       "      <td>2020-03-01 17:22:13</td>\n",
       "      <td>Couple without children</td>\n",
       "    </tr>\n",
       "    <tr>\n",
       "      <th>5491</th>\n",
       "      <td>Individual</td>\n",
       "      <td>Active</td>\n",
       "      <td>Ahmednagar</td>\n",
       "      <td>NaN</td>\n",
       "      <td>414111.0</td>\n",
       "      <td>MALE</td>\n",
       "      <td>1985-09-16</td>\n",
       "      <td>M</td>\n",
       "      <td>2020-03-03 03:18:42</td>\n",
       "      <td>Couple without children</td>\n",
       "    </tr>\n",
       "    <tr>\n",
       "      <th>5492</th>\n",
       "      <td>Individual</td>\n",
       "      <td>Active</td>\n",
       "      <td>Singhbhum</td>\n",
       "      <td>NaN</td>\n",
       "      <td>831017.0</td>\n",
       "      <td>MALE</td>\n",
       "      <td>1950-05-29</td>\n",
       "      <td>M</td>\n",
       "      <td>2020-03-03 05:38:44</td>\n",
       "      <td>Couple without children</td>\n",
       "    </tr>\n",
       "    <tr>\n",
       "      <th>5511</th>\n",
       "      <td>Individual</td>\n",
       "      <td>Active</td>\n",
       "      <td>Tirupati</td>\n",
       "      <td>NaN</td>\n",
       "      <td>517506.0</td>\n",
       "      <td>MALE</td>\n",
       "      <td>1994-09-04</td>\n",
       "      <td>M</td>\n",
       "      <td>2020-03-04 08:37:36</td>\n",
       "      <td>Couple without children</td>\n",
       "    </tr>\n",
       "    <tr>\n",
       "      <th>5515</th>\n",
       "      <td>Individual</td>\n",
       "      <td>Active</td>\n",
       "      <td>Thrissur</td>\n",
       "      <td>NaN</td>\n",
       "      <td>678601.0</td>\n",
       "      <td>MALE</td>\n",
       "      <td>1985-05-10</td>\n",
       "      <td>M</td>\n",
       "      <td>2020-03-04 12:56:43</td>\n",
       "      <td>Couple without children</td>\n",
       "    </tr>\n",
       "    <tr>\n",
       "      <th>5752</th>\n",
       "      <td>Individual</td>\n",
       "      <td>Active</td>\n",
       "      <td>Pune City</td>\n",
       "      <td>NaN</td>\n",
       "      <td>411030.0</td>\n",
       "      <td>MALE</td>\n",
       "      <td>1990-01-11</td>\n",
       "      <td>M</td>\n",
       "      <td>2020-02-29 09:04:18</td>\n",
       "      <td>couple with children</td>\n",
       "    </tr>\n",
       "    <tr>\n",
       "      <th>5753</th>\n",
       "      <td>Individual</td>\n",
       "      <td>Active</td>\n",
       "      <td>Bhopal</td>\n",
       "      <td>NaN</td>\n",
       "      <td>462039.0</td>\n",
       "      <td>MALE</td>\n",
       "      <td>1988-05-29</td>\n",
       "      <td>M</td>\n",
       "      <td>2020-02-29 09:32:42</td>\n",
       "      <td>couple with children</td>\n",
       "    </tr>\n",
       "    <tr>\n",
       "      <th>5754</th>\n",
       "      <td>Individual</td>\n",
       "      <td>Active</td>\n",
       "      <td>Pune City</td>\n",
       "      <td>NaN</td>\n",
       "      <td>411037.0</td>\n",
       "      <td>MALE</td>\n",
       "      <td>1979-12-29</td>\n",
       "      <td>M</td>\n",
       "      <td>2020-02-29 09:52:44</td>\n",
       "      <td>couple with children</td>\n",
       "    </tr>\n",
       "    <tr>\n",
       "      <th>5758</th>\n",
       "      <td>Individual</td>\n",
       "      <td>Active</td>\n",
       "      <td>Thane</td>\n",
       "      <td>NaN</td>\n",
       "      <td>400605.0</td>\n",
       "      <td>MALE</td>\n",
       "      <td>1995-03-05</td>\n",
       "      <td>M</td>\n",
       "      <td>2020-02-29 12:05:05</td>\n",
       "      <td>couple with children</td>\n",
       "    </tr>\n",
       "    <tr>\n",
       "      <th>5761</th>\n",
       "      <td>Individual</td>\n",
       "      <td>Active</td>\n",
       "      <td>Pune City</td>\n",
       "      <td>NaN</td>\n",
       "      <td>411009.0</td>\n",
       "      <td>FEMALE</td>\n",
       "      <td>1984-11-24</td>\n",
       "      <td>M</td>\n",
       "      <td>2020-02-29 12:39:16</td>\n",
       "      <td>couple with children</td>\n",
       "    </tr>\n",
       "    <tr>\n",
       "      <th>6340</th>\n",
       "      <td>Individual</td>\n",
       "      <td>Active</td>\n",
       "      <td>New Mumbai</td>\n",
       "      <td>NaN</td>\n",
       "      <td>400703.0</td>\n",
       "      <td>MALE</td>\n",
       "      <td>1987-03-30</td>\n",
       "      <td>M</td>\n",
       "      <td>2020-02-28 19:57:59</td>\n",
       "      <td>Couple without children</td>\n",
       "    </tr>\n",
       "    <tr>\n",
       "      <th>6410</th>\n",
       "      <td>Individual</td>\n",
       "      <td>Active</td>\n",
       "      <td>24 Parganas</td>\n",
       "      <td>NaN</td>\n",
       "      <td>700157.0</td>\n",
       "      <td>MALE</td>\n",
       "      <td>1976-06-02</td>\n",
       "      <td>M</td>\n",
       "      <td>2020-02-27 10:15:00</td>\n",
       "      <td>Single/living alone</td>\n",
       "    </tr>\n",
       "    <tr>\n",
       "      <th>6412</th>\n",
       "      <td>Individual</td>\n",
       "      <td>Active</td>\n",
       "      <td>Pune City</td>\n",
       "      <td>NaN</td>\n",
       "      <td>411009.0</td>\n",
       "      <td>FEMALE</td>\n",
       "      <td>1993-08-10</td>\n",
       "      <td>M</td>\n",
       "      <td>2020-02-27 11:30:53</td>\n",
       "      <td>Single/living alone</td>\n",
       "    </tr>\n",
       "    <tr>\n",
       "      <th>6414</th>\n",
       "      <td>Individual</td>\n",
       "      <td>Active</td>\n",
       "      <td>Pune City</td>\n",
       "      <td>NaN</td>\n",
       "      <td>411038.0</td>\n",
       "      <td>FEMALE</td>\n",
       "      <td>1977-03-25</td>\n",
       "      <td>M</td>\n",
       "      <td>2020-02-27 12:02:28</td>\n",
       "      <td>Single/living alone</td>\n",
       "    </tr>\n",
       "    <tr>\n",
       "      <th>6555</th>\n",
       "      <td>Individual</td>\n",
       "      <td>Active</td>\n",
       "      <td>Pune City</td>\n",
       "      <td>NaN</td>\n",
       "      <td>411030.0</td>\n",
       "      <td>MALE</td>\n",
       "      <td>1983-12-07</td>\n",
       "      <td>M</td>\n",
       "      <td>2020-03-01 17:51:01</td>\n",
       "      <td>couple with children</td>\n",
       "    </tr>\n",
       "    <tr>\n",
       "      <th>9050</th>\n",
       "      <td>Individual</td>\n",
       "      <td>Active</td>\n",
       "      <td>Pune City</td>\n",
       "      <td>NaN</td>\n",
       "      <td>411048.0</td>\n",
       "      <td>MALE</td>\n",
       "      <td>1973-08-09</td>\n",
       "      <td>M</td>\n",
       "      <td>2020-02-28 19:27:31</td>\n",
       "      <td>couple with children</td>\n",
       "    </tr>\n",
       "    <tr>\n",
       "      <th>9051</th>\n",
       "      <td>Individual</td>\n",
       "      <td>Active</td>\n",
       "      <td>Pune City</td>\n",
       "      <td>NaN</td>\n",
       "      <td>411057.0</td>\n",
       "      <td>MALE</td>\n",
       "      <td>1979-06-01</td>\n",
       "      <td>M</td>\n",
       "      <td>2020-02-29 02:57:31</td>\n",
       "      <td>couple with children</td>\n",
       "    </tr>\n",
       "    <tr>\n",
       "      <th>9053</th>\n",
       "      <td>Individual</td>\n",
       "      <td>Active</td>\n",
       "      <td>Mumbai</td>\n",
       "      <td>NaN</td>\n",
       "      <td>400101.0</td>\n",
       "      <td>FEMALE</td>\n",
       "      <td>1990-03-10</td>\n",
       "      <td>M</td>\n",
       "      <td>2020-02-29 05:28:25</td>\n",
       "      <td>couple with children</td>\n",
       "    </tr>\n",
       "    <tr>\n",
       "      <th>9055</th>\n",
       "      <td>Individual</td>\n",
       "      <td>Active</td>\n",
       "      <td>Kovilpatti</td>\n",
       "      <td>NaN</td>\n",
       "      <td>627809.0</td>\n",
       "      <td>FEMALE</td>\n",
       "      <td>1993-02-23</td>\n",
       "      <td>M</td>\n",
       "      <td>2020-02-29 06:01:50</td>\n",
       "      <td>couple with children</td>\n",
       "    </tr>\n",
       "    <tr>\n",
       "      <th>9057</th>\n",
       "      <td>Individual</td>\n",
       "      <td>Active</td>\n",
       "      <td>Thane</td>\n",
       "      <td>NaN</td>\n",
       "      <td>400607.0</td>\n",
       "      <td>MALE</td>\n",
       "      <td>1972-07-09</td>\n",
       "      <td>M</td>\n",
       "      <td>2020-02-29 08:35:52</td>\n",
       "      <td>couple with children</td>\n",
       "    </tr>\n",
       "    <tr>\n",
       "      <th>9172</th>\n",
       "      <td>Individual</td>\n",
       "      <td>Active</td>\n",
       "      <td>Hyderabad South East</td>\n",
       "      <td>NaN</td>\n",
       "      <td>500070.0</td>\n",
       "      <td>MALE</td>\n",
       "      <td>1996-10-15</td>\n",
       "      <td>M</td>\n",
       "      <td>2020-03-04 11:50:53</td>\n",
       "      <td>Couple without children</td>\n",
       "    </tr>\n",
       "    <tr>\n",
       "      <th>9174</th>\n",
       "      <td>Individual</td>\n",
       "      <td>Active</td>\n",
       "      <td>Changanach</td>\n",
       "      <td>NaN</td>\n",
       "      <td>686106.0</td>\n",
       "      <td>MALE</td>\n",
       "      <td>1989-07-16</td>\n",
       "      <td>M</td>\n",
       "      <td>2020-03-04 14:37:29</td>\n",
       "      <td>Couple without children</td>\n",
       "    </tr>\n",
       "    <tr>\n",
       "      <th>9611</th>\n",
       "      <td>Individual</td>\n",
       "      <td>Active</td>\n",
       "      <td>New Mumbai</td>\n",
       "      <td>NaN</td>\n",
       "      <td>400706.0</td>\n",
       "      <td>MALE</td>\n",
       "      <td>1977-05-12</td>\n",
       "      <td>M</td>\n",
       "      <td>2020-02-05 01:53:03</td>\n",
       "      <td>Single/living alone</td>\n",
       "    </tr>\n",
       "  </tbody>\n",
       "</table>\n",
       "</div>"
      ],
      "text/plain": [
       "            Type  Status                  City State  PostalCode GenderCode  \\\n",
       "208   Individual  Active             BANGALORE   NaN         NaN       MALE   \n",
       "972   Individual  Active             Pune City   NaN    411032.0       MALE   \n",
       "973   Individual  Active                Mumbai   NaN    400064.0       MALE   \n",
       "974   Individual  Active            New Mumbai   NaN    410210.0       MALE   \n",
       "1074  Individual  Active           Share Later   NaN    500001.0       MALE   \n",
       "1076  Individual  Active           Share Later   NaN    500001.0       MALE   \n",
       "1970  Individual  Active                    -1   NaN    110096.0       MALE   \n",
       "1985  Individual  Active             Pune City   NaN    411057.0       MALE   \n",
       "4858  Individual  Active                 Thane   NaN    401107.0       MALE   \n",
       "4859  Individual  Active  Hyderabad South East   NaN    500013.0       MALE   \n",
       "4860  Individual  Active             Pune City   NaN    411017.0       MALE   \n",
       "5156  Individual  Active                Mumbai   NaN    400028.0       MALE   \n",
       "5157  Individual  Active  Hyderabad South East   NaN    500052.0       MALE   \n",
       "5158  Individual  Active             Pune City   NaN    411019.0     FEMALE   \n",
       "5491  Individual  Active            Ahmednagar   NaN    414111.0       MALE   \n",
       "5492  Individual  Active             Singhbhum   NaN    831017.0       MALE   \n",
       "5511  Individual  Active              Tirupati   NaN    517506.0       MALE   \n",
       "5515  Individual  Active              Thrissur   NaN    678601.0       MALE   \n",
       "5752  Individual  Active             Pune City   NaN    411030.0       MALE   \n",
       "5753  Individual  Active                Bhopal   NaN    462039.0       MALE   \n",
       "5754  Individual  Active             Pune City   NaN    411037.0       MALE   \n",
       "5758  Individual  Active                 Thane   NaN    400605.0       MALE   \n",
       "5761  Individual  Active             Pune City   NaN    411009.0     FEMALE   \n",
       "6340  Individual  Active            New Mumbai   NaN    400703.0       MALE   \n",
       "6410  Individual  Active           24 Parganas   NaN    700157.0       MALE   \n",
       "6412  Individual  Active             Pune City   NaN    411009.0     FEMALE   \n",
       "6414  Individual  Active             Pune City   NaN    411038.0     FEMALE   \n",
       "6555  Individual  Active             Pune City   NaN    411030.0       MALE   \n",
       "9050  Individual  Active             Pune City   NaN    411048.0       MALE   \n",
       "9051  Individual  Active             Pune City   NaN    411057.0       MALE   \n",
       "9053  Individual  Active                Mumbai   NaN    400101.0     FEMALE   \n",
       "9055  Individual  Active            Kovilpatti   NaN    627809.0     FEMALE   \n",
       "9057  Individual  Active                 Thane   NaN    400607.0       MALE   \n",
       "9172  Individual  Active  Hyderabad South East   NaN    500070.0       MALE   \n",
       "9174  Individual  Active            Changanach   NaN    686106.0       MALE   \n",
       "9611  Individual  Active            New Mumbai   NaN    400706.0       MALE   \n",
       "\n",
       "      BirthDate MaritalStatus         Enrolled_on            Living status  \n",
       "208  1984-03-03             M 2019-02-08 13:50:58  Couple without children  \n",
       "972  1994-07-05             M 2020-03-01 17:49:14     couple with children  \n",
       "973  1995-06-24             M 2020-03-01 17:59:22     couple with children  \n",
       "974  1992-09-06             M 2020-03-01 21:10:06     couple with children  \n",
       "1074 1985-10-18             M 2018-11-11 13:36:14  Couple without children  \n",
       "1076 1982-10-18             M 2018-11-11 13:47:19  Couple without children  \n",
       "1970 1989-10-12             M 2018-07-04 10:23:24      Single/living alone  \n",
       "1985 1988-05-08             M 2020-03-01 16:26:37      Single/living alone  \n",
       "4858 1984-06-07             M 2020-03-03 18:16:41     couple with children  \n",
       "4859 1971-10-14             M 2020-03-04 04:41:56     couple with children  \n",
       "4860 1991-04-01             M 2020-03-04 04:58:17     couple with children  \n",
       "5156 1990-07-11             M 2020-03-01 16:17:03  Couple without children  \n",
       "5157 1981-06-10             M 2020-03-01 16:31:51  Couple without children  \n",
       "5158 1987-10-14             M 2020-03-01 17:22:13  Couple without children  \n",
       "5491 1985-09-16             M 2020-03-03 03:18:42  Couple without children  \n",
       "5492 1950-05-29             M 2020-03-03 05:38:44  Couple without children  \n",
       "5511 1994-09-04             M 2020-03-04 08:37:36  Couple without children  \n",
       "5515 1985-05-10             M 2020-03-04 12:56:43  Couple without children  \n",
       "5752 1990-01-11             M 2020-02-29 09:04:18     couple with children  \n",
       "5753 1988-05-29             M 2020-02-29 09:32:42     couple with children  \n",
       "5754 1979-12-29             M 2020-02-29 09:52:44     couple with children  \n",
       "5758 1995-03-05             M 2020-02-29 12:05:05     couple with children  \n",
       "5761 1984-11-24             M 2020-02-29 12:39:16     couple with children  \n",
       "6340 1987-03-30             M 2020-02-28 19:57:59  Couple without children  \n",
       "6410 1976-06-02             M 2020-02-27 10:15:00      Single/living alone  \n",
       "6412 1993-08-10             M 2020-02-27 11:30:53      Single/living alone  \n",
       "6414 1977-03-25             M 2020-02-27 12:02:28      Single/living alone  \n",
       "6555 1983-12-07             M 2020-03-01 17:51:01     couple with children  \n",
       "9050 1973-08-09             M 2020-02-28 19:27:31     couple with children  \n",
       "9051 1979-06-01             M 2020-02-29 02:57:31     couple with children  \n",
       "9053 1990-03-10             M 2020-02-29 05:28:25     couple with children  \n",
       "9055 1993-02-23             M 2020-02-29 06:01:50     couple with children  \n",
       "9057 1972-07-09             M 2020-02-29 08:35:52     couple with children  \n",
       "9172 1996-10-15             M 2020-03-04 11:50:53  Couple without children  \n",
       "9174 1989-07-16             M 2020-03-04 14:37:29  Couple without children  \n",
       "9611 1977-05-12             M 2020-02-05 01:53:03      Single/living alone  "
      ]
     },
     "execution_count": 141,
     "metadata": {},
     "output_type": "execute_result"
    }
   ],
   "source": [
    "df[df[\"City\"].notnull() & df[\"State\"].isnull()]\n"
   ]
  },
  {
   "cell_type": "code",
   "execution_count": 142,
   "id": "39cda746-6f0a-4cf0-98fd-94d3187f6b48",
   "metadata": {},
   "outputs": [
    {
     "data": {
      "text/html": [
       "<div>\n",
       "<style scoped>\n",
       "    .dataframe tbody tr th:only-of-type {\n",
       "        vertical-align: middle;\n",
       "    }\n",
       "\n",
       "    .dataframe tbody tr th {\n",
       "        vertical-align: top;\n",
       "    }\n",
       "\n",
       "    .dataframe thead th {\n",
       "        text-align: right;\n",
       "    }\n",
       "</style>\n",
       "<table border=\"1\" class=\"dataframe\">\n",
       "  <thead>\n",
       "    <tr style=\"text-align: right;\">\n",
       "      <th></th>\n",
       "      <th>Type</th>\n",
       "      <th>Status</th>\n",
       "      <th>City</th>\n",
       "      <th>State</th>\n",
       "      <th>PostalCode</th>\n",
       "      <th>GenderCode</th>\n",
       "      <th>BirthDate</th>\n",
       "      <th>MaritalStatus</th>\n",
       "      <th>Enrolled_on</th>\n",
       "      <th>Living status</th>\n",
       "    </tr>\n",
       "  </thead>\n",
       "  <tbody>\n",
       "    <tr>\n",
       "      <th>208</th>\n",
       "      <td>Individual</td>\n",
       "      <td>Active</td>\n",
       "      <td>BANGALORE</td>\n",
       "      <td>NaN</td>\n",
       "      <td>NaN</td>\n",
       "      <td>MALE</td>\n",
       "      <td>1984-03-03</td>\n",
       "      <td>M</td>\n",
       "      <td>2019-02-08 13:50:58</td>\n",
       "      <td>Couple without children</td>\n",
       "    </tr>\n",
       "  </tbody>\n",
       "</table>\n",
       "</div>"
      ],
      "text/plain": [
       "           Type  Status       City State  PostalCode GenderCode  BirthDate  \\\n",
       "208  Individual  Active  BANGALORE   NaN         NaN       MALE 1984-03-03   \n",
       "\n",
       "    MaritalStatus         Enrolled_on            Living status  \n",
       "208             M 2019-02-08 13:50:58  Couple without children  "
      ]
     },
     "execution_count": 142,
     "metadata": {},
     "output_type": "execute_result"
    }
   ],
   "source": [
    "df[df[\"PostalCode\"].isnull()]"
   ]
  },
  {
   "cell_type": "code",
   "execution_count": 143,
   "id": "6ffa0a95-5d9b-43bb-8330-f0ff71350855",
   "metadata": {},
   "outputs": [
    {
     "data": {
      "text/plain": [
       "array([nan, 'GUJARAT', 'TELANGANA', 'ANDHRA PRADESH', 'WEST BENGAL',\n",
       "       'KARNATAKA', 'DELHI', 'MAHARASHTRA', 'UTTAR PRADESH', 'RAJASTHAN',\n",
       "       'ASSAM', 'HARYANA', 'TAMIL NADU', 'MADHYA PRADESH', 'KERALA',\n",
       "       'ODISHA', 'CHANDIGARH', 'PONDICHERRY', 'PUNJAB', 'GOA',\n",
       "       'JHARKHAND', 'MEGHALAYA', 'BIHAR', 'HIMACHAL PRADESH',\n",
       "       'CHATTISGARH', 'NAGALAND', 'UTTARAKHAND', 'SIKKIM', 'TRIPURA',\n",
       "       'DAMAN and DIU', 'PUDUCHERRY', 'ARUNACHAL PRADESH'], dtype=object)"
      ]
     },
     "execution_count": 143,
     "metadata": {},
     "output_type": "execute_result"
    }
   ],
   "source": [
    "df[\"State\"].unique()"
   ]
  },
  {
   "cell_type": "code",
   "execution_count": 144,
   "id": "9a46b600-d978-4de1-a01d-d6b2abe78b64",
   "metadata": {},
   "outputs": [],
   "source": [
    "# filling with empty state nan values\n",
    "df[\"City\"] = df[\"City\"].replace(-1, np.nan)\n",
    "city_to_state = { \"Hyderabad South East\": \"TELANGANA\",\"Tirupati\":\"ANDHRA PRADESH\",\"BANGALORE\": \"KARNATAKA\",\"Chennai\": \"Tamil Nadu\",\n",
    "                 \"Pune City\": \"MAHARASHTRA\",\"Mumbai\": \"MAHARASHTRA\",\"New Mumbai\":\"MAHARASHTRA\",\"Thane\":\"MAHARASHTRA\",\"Bhopal\":\"MADHYA PRADESH\",\n",
    "                 \"Changanach\":\"KERALA\",\"Kovilpatt\":\"TAMIL NADU\",\"24 Parganas\":\"WEST BENGAL\",\"Thrissur\":\"KERALA\",\"Singhbhum\":\"JHARKHAND\",\"Ahmednagar\":\"MAHARASHTRA\",\n",
    "               \"Kovilpatti\":\"TAMIL NADU\" }\n",
    "df[\"City\"] = df[\"City\"].replace([\"share later\"], np.nan)\n",
    "df[\"State\"] = df[\"State\"].replace([\"NA\", \"Not Mentioned\"], np.nan)\n",
    "df[\"State\"] = df[\"State\"].fillna(df[\"City\"].map(city_to_state))"
   ]
  },
  {
   "cell_type": "markdown",
   "id": "666a940f-5c22-4f62-b1bb-1cf4ded43dc5",
   "metadata": {},
   "source": [
    "## WHY\"\n",
    "- there is a null values in state and city,in this city has names but state has empty values.\n",
    "- so,i replaced based on city with state by reseach.\n",
    "- similarly i fill \"NA\" values with \"SHARE LATER\" in city column and \"NAN\" in state "
   ]
  },
  {
   "cell_type": "code",
   "execution_count": 145,
   "id": "2334045a-cac0-407e-86c4-a283b2e9c70b",
   "metadata": {},
   "outputs": [],
   "source": [
    "# Clean State names\n",
    "df[\"State\"] = df[\"State\"].str.strip().str.title()\n",
    "# State → Postal Code mapping (example)\n",
    "state_to_postal = {\"Karnataka\": 560001}\n",
    "# Fill PostalCode from State\n",
    "df[\"PostalCode\"] = df[\"PostalCode\"].fillna(df[\"State\"].map(state_to_postal))"
   ]
  },
  {
   "cell_type": "markdown",
   "id": "b8317700-101b-41c8-96c6-d76c0f11d4db",
   "metadata": {},
   "source": [
    "## WHY:\n",
    "- IN POSTAL code one missing pincode for state is there i  filled with exact value with research.\n",
    "- in STATE i reomved extra spaces and converts to title case."
   ]
  },
  {
   "cell_type": "code",
   "execution_count": 146,
   "id": "822e2f42-0ac8-4f42-ad98-a9588250d9c9",
   "metadata": {},
   "outputs": [
    {
     "data": {
      "text/html": [
       "<div>\n",
       "<style scoped>\n",
       "    .dataframe tbody tr th:only-of-type {\n",
       "        vertical-align: middle;\n",
       "    }\n",
       "\n",
       "    .dataframe tbody tr th {\n",
       "        vertical-align: top;\n",
       "    }\n",
       "\n",
       "    .dataframe thead th {\n",
       "        text-align: right;\n",
       "    }\n",
       "</style>\n",
       "<table border=\"1\" class=\"dataframe\">\n",
       "  <thead>\n",
       "    <tr style=\"text-align: right;\">\n",
       "      <th></th>\n",
       "      <th>Type</th>\n",
       "      <th>Status</th>\n",
       "      <th>City</th>\n",
       "      <th>State</th>\n",
       "      <th>PostalCode</th>\n",
       "      <th>GenderCode</th>\n",
       "      <th>BirthDate</th>\n",
       "      <th>MaritalStatus</th>\n",
       "      <th>Enrolled_on</th>\n",
       "      <th>Living status</th>\n",
       "    </tr>\n",
       "  </thead>\n",
       "  <tbody>\n",
       "    <tr>\n",
       "      <th>1074</th>\n",
       "      <td>Individual</td>\n",
       "      <td>Active</td>\n",
       "      <td>Share Later</td>\n",
       "      <td>NaN</td>\n",
       "      <td>500001.0</td>\n",
       "      <td>MALE</td>\n",
       "      <td>1985-10-18</td>\n",
       "      <td>M</td>\n",
       "      <td>2018-11-11 13:36:14</td>\n",
       "      <td>Couple without children</td>\n",
       "    </tr>\n",
       "    <tr>\n",
       "      <th>1076</th>\n",
       "      <td>Individual</td>\n",
       "      <td>Active</td>\n",
       "      <td>Share Later</td>\n",
       "      <td>NaN</td>\n",
       "      <td>500001.0</td>\n",
       "      <td>MALE</td>\n",
       "      <td>1982-10-18</td>\n",
       "      <td>M</td>\n",
       "      <td>2018-11-11 13:47:19</td>\n",
       "      <td>Couple without children</td>\n",
       "    </tr>\n",
       "  </tbody>\n",
       "</table>\n",
       "</div>"
      ],
      "text/plain": [
       "            Type  Status         City State  PostalCode GenderCode  BirthDate  \\\n",
       "1074  Individual  Active  Share Later   NaN    500001.0       MALE 1985-10-18   \n",
       "1076  Individual  Active  Share Later   NaN    500001.0       MALE 1982-10-18   \n",
       "\n",
       "     MaritalStatus         Enrolled_on            Living status  \n",
       "1074             M 2018-11-11 13:36:14  Couple without children  \n",
       "1076             M 2018-11-11 13:47:19  Couple without children  "
      ]
     },
     "execution_count": 146,
     "metadata": {},
     "output_type": "execute_result"
    }
   ],
   "source": [
    "df[df[\"City\"].notnull() & df[\"State\"].isnull()]\n"
   ]
  },
  {
   "cell_type": "code",
   "execution_count": 147,
   "id": "315c201a-c274-4856-88cf-42f0523a5a2f",
   "metadata": {},
   "outputs": [],
   "source": [
    "df = df.dropna(subset=[\"City\", \"State\"])"
   ]
  },
  {
   "cell_type": "markdown",
   "id": "9e4f5ed9-7143-4875-9aa1-b9c1d92ee8ae",
   "metadata": {},
   "source": [
    "## WHY:\n",
    "- in CITY & STATE both have \"share later\",\"NaN\" values so, i dropped both of them,because data has huge,so it should < 5% by droping \n",
    "  this 2 rows,it wont have much effect on data."
   ]
  },
  {
   "cell_type": "code",
   "execution_count": 148,
   "id": "ef764937-031d-45f2-89b4-42a227a289ad",
   "metadata": {},
   "outputs": [
    {
     "data": {
      "text/plain": [
       "Type             0\n",
       "Status           0\n",
       "City             0\n",
       "State            0\n",
       "PostalCode       0\n",
       "GenderCode       0\n",
       "BirthDate        0\n",
       "MaritalStatus    0\n",
       "Enrolled_on      0\n",
       "Living status    0\n",
       "dtype: int64"
      ]
     },
     "execution_count": 148,
     "metadata": {},
     "output_type": "execute_result"
    }
   ],
   "source": [
    "df.isnull().sum()"
   ]
  },
  {
   "cell_type": "code",
   "execution_count": 149,
   "id": "b2fe2a37-690b-4710-8ab4-c5d53be1db1b",
   "metadata": {},
   "outputs": [
    {
     "data": {
      "text/plain": [
       "0"
      ]
     },
     "execution_count": 149,
     "metadata": {},
     "output_type": "execute_result"
    }
   ],
   "source": [
    "df.duplicated().sum()"
   ]
  },
  {
   "cell_type": "markdown",
   "id": "8ca8bd55-cbff-492a-bd08-1ec49dbee0cf",
   "metadata": {},
   "source": [
    "## now the data is cleaned"
   ]
  },
  {
   "cell_type": "code",
   "execution_count": 150,
   "id": "fa8d79a9-5de6-4708-80f2-c5b67424a373",
   "metadata": {},
   "outputs": [],
   "source": [
    "df.to_csv(\"cleaned_data.csv\", index=False)\n"
   ]
  },
  {
   "cell_type": "code",
   "execution_count": 151,
   "id": "3227dfa9-f1ef-4f0a-ab1b-3c5d493d6073",
   "metadata": {},
   "outputs": [
    {
     "data": {
      "text/html": [
       "<div>\n",
       "<style scoped>\n",
       "    .dataframe tbody tr th:only-of-type {\n",
       "        vertical-align: middle;\n",
       "    }\n",
       "\n",
       "    .dataframe tbody tr th {\n",
       "        vertical-align: top;\n",
       "    }\n",
       "\n",
       "    .dataframe thead th {\n",
       "        text-align: right;\n",
       "    }\n",
       "</style>\n",
       "<table border=\"1\" class=\"dataframe\">\n",
       "  <thead>\n",
       "    <tr style=\"text-align: right;\">\n",
       "      <th></th>\n",
       "      <th>Type</th>\n",
       "      <th>Status</th>\n",
       "      <th>City</th>\n",
       "      <th>State</th>\n",
       "      <th>PostalCode</th>\n",
       "      <th>GenderCode</th>\n",
       "      <th>BirthDate</th>\n",
       "      <th>MaritalStatus</th>\n",
       "      <th>Enrolled_on</th>\n",
       "      <th>Living status</th>\n",
       "    </tr>\n",
       "  </thead>\n",
       "  <tbody>\n",
       "    <tr>\n",
       "      <th>0</th>\n",
       "      <td>Individual</td>\n",
       "      <td>Active</td>\n",
       "      <td>Valsad</td>\n",
       "      <td>Gujarat</td>\n",
       "      <td>396001.0</td>\n",
       "      <td>MALE</td>\n",
       "      <td>1992-11-02</td>\n",
       "      <td>M</td>\n",
       "      <td>2018-08-14 18:02:46</td>\n",
       "      <td>couple with children</td>\n",
       "    </tr>\n",
       "    <tr>\n",
       "      <th>1</th>\n",
       "      <td>Individual</td>\n",
       "      <td>Active</td>\n",
       "      <td>Secunderabad</td>\n",
       "      <td>Telangana</td>\n",
       "      <td>500011.0</td>\n",
       "      <td>FEMALE</td>\n",
       "      <td>1988-11-25</td>\n",
       "      <td>M</td>\n",
       "      <td>2018-08-14 18:05:23</td>\n",
       "      <td>couple with children</td>\n",
       "    </tr>\n",
       "    <tr>\n",
       "      <th>2</th>\n",
       "      <td>Individual</td>\n",
       "      <td>Active</td>\n",
       "      <td>Nalgonda</td>\n",
       "      <td>Telangana</td>\n",
       "      <td>508101.0</td>\n",
       "      <td>MALE</td>\n",
       "      <td>1983-06-13</td>\n",
       "      <td>M</td>\n",
       "      <td>2018-08-14 18:37:33</td>\n",
       "      <td>couple with children</td>\n",
       "    </tr>\n",
       "    <tr>\n",
       "      <th>3</th>\n",
       "      <td>Individual</td>\n",
       "      <td>Active</td>\n",
       "      <td>Hyderabad</td>\n",
       "      <td>Telangana</td>\n",
       "      <td>500028.0</td>\n",
       "      <td>MALE</td>\n",
       "      <td>1975-07-13</td>\n",
       "      <td>M</td>\n",
       "      <td>2018-08-14 18:47:00</td>\n",
       "      <td>couple with children</td>\n",
       "    </tr>\n",
       "    <tr>\n",
       "      <th>4</th>\n",
       "      <td>Individual</td>\n",
       "      <td>Active</td>\n",
       "      <td>Hyderabad</td>\n",
       "      <td>Telangana</td>\n",
       "      <td>500018.0</td>\n",
       "      <td>FEMALE</td>\n",
       "      <td>1986-08-07</td>\n",
       "      <td>M</td>\n",
       "      <td>2018-08-14 19:33:29</td>\n",
       "      <td>couple with children</td>\n",
       "    </tr>\n",
       "    <tr>\n",
       "      <th>...</th>\n",
       "      <td>...</td>\n",
       "      <td>...</td>\n",
       "      <td>...</td>\n",
       "      <td>...</td>\n",
       "      <td>...</td>\n",
       "      <td>...</td>\n",
       "      <td>...</td>\n",
       "      <td>...</td>\n",
       "      <td>...</td>\n",
       "      <td>...</td>\n",
       "    </tr>\n",
       "    <tr>\n",
       "      <th>9919</th>\n",
       "      <td>Individual</td>\n",
       "      <td>Active</td>\n",
       "      <td>Hyderabad</td>\n",
       "      <td>Telangana</td>\n",
       "      <td>500032.0</td>\n",
       "      <td>MALE</td>\n",
       "      <td>1997-07-03</td>\n",
       "      <td>M</td>\n",
       "      <td>2018-06-09 03:36:15</td>\n",
       "      <td>Couple without children</td>\n",
       "    </tr>\n",
       "    <tr>\n",
       "      <th>9920</th>\n",
       "      <td>Individual</td>\n",
       "      <td>Active</td>\n",
       "      <td>Hyderabad</td>\n",
       "      <td>Telangana</td>\n",
       "      <td>500002.0</td>\n",
       "      <td>MALE</td>\n",
       "      <td>1980-05-24</td>\n",
       "      <td>M</td>\n",
       "      <td>2018-06-09 03:38:05</td>\n",
       "      <td>Couple without children</td>\n",
       "    </tr>\n",
       "    <tr>\n",
       "      <th>9921</th>\n",
       "      <td>Individual</td>\n",
       "      <td>Active</td>\n",
       "      <td>Secunderabad</td>\n",
       "      <td>Telangana</td>\n",
       "      <td>500080.0</td>\n",
       "      <td>FEMALE</td>\n",
       "      <td>1984-11-22</td>\n",
       "      <td>M</td>\n",
       "      <td>2018-06-09 03:55:25</td>\n",
       "      <td>Couple without children</td>\n",
       "    </tr>\n",
       "    <tr>\n",
       "      <th>9922</th>\n",
       "      <td>Individual</td>\n",
       "      <td>Active</td>\n",
       "      <td>Hyderabad</td>\n",
       "      <td>Telangana</td>\n",
       "      <td>500081.0</td>\n",
       "      <td>FEMALE</td>\n",
       "      <td>1994-07-14</td>\n",
       "      <td>M</td>\n",
       "      <td>2018-06-09 04:00:01</td>\n",
       "      <td>Couple without children</td>\n",
       "    </tr>\n",
       "    <tr>\n",
       "      <th>9923</th>\n",
       "      <td>Individual</td>\n",
       "      <td>Active</td>\n",
       "      <td>Secunderabad</td>\n",
       "      <td>Telangana</td>\n",
       "      <td>500090.0</td>\n",
       "      <td>MALE</td>\n",
       "      <td>1977-07-09</td>\n",
       "      <td>M</td>\n",
       "      <td>2018-06-09 04:05:30</td>\n",
       "      <td>Couple without children</td>\n",
       "    </tr>\n",
       "  </tbody>\n",
       "</table>\n",
       "<p>9924 rows × 10 columns</p>\n",
       "</div>"
      ],
      "text/plain": [
       "            Type  Status          City      State  PostalCode GenderCode  \\\n",
       "0     Individual  Active        Valsad    Gujarat    396001.0       MALE   \n",
       "1     Individual  Active  Secunderabad  Telangana    500011.0     FEMALE   \n",
       "2     Individual  Active      Nalgonda  Telangana    508101.0       MALE   \n",
       "3     Individual  Active     Hyderabad  Telangana    500028.0       MALE   \n",
       "4     Individual  Active     Hyderabad  Telangana    500018.0     FEMALE   \n",
       "...          ...     ...           ...        ...         ...        ...   \n",
       "9919  Individual  Active     Hyderabad  Telangana    500032.0       MALE   \n",
       "9920  Individual  Active     Hyderabad  Telangana    500002.0       MALE   \n",
       "9921  Individual  Active  Secunderabad  Telangana    500080.0     FEMALE   \n",
       "9922  Individual  Active     Hyderabad  Telangana    500081.0     FEMALE   \n",
       "9923  Individual  Active  Secunderabad  Telangana    500090.0       MALE   \n",
       "\n",
       "       BirthDate MaritalStatus          Enrolled_on            Living status  \n",
       "0     1992-11-02             M  2018-08-14 18:02:46     couple with children  \n",
       "1     1988-11-25             M  2018-08-14 18:05:23     couple with children  \n",
       "2     1983-06-13             M  2018-08-14 18:37:33     couple with children  \n",
       "3     1975-07-13             M  2018-08-14 18:47:00     couple with children  \n",
       "4     1986-08-07             M  2018-08-14 19:33:29     couple with children  \n",
       "...          ...           ...                  ...                      ...  \n",
       "9919  1997-07-03             M  2018-06-09 03:36:15  Couple without children  \n",
       "9920  1980-05-24             M  2018-06-09 03:38:05  Couple without children  \n",
       "9921  1984-11-22             M  2018-06-09 03:55:25  Couple without children  \n",
       "9922  1994-07-14             M  2018-06-09 04:00:01  Couple without children  \n",
       "9923  1977-07-09             M  2018-06-09 04:05:30  Couple without children  \n",
       "\n",
       "[9924 rows x 10 columns]"
      ]
     },
     "execution_count": 151,
     "metadata": {},
     "output_type": "execute_result"
    }
   ],
   "source": [
    "df1 = pd.read_csv(\"cleaned_data.csv\")\n",
    "df1"
   ]
  },
  {
   "cell_type": "code",
   "execution_count": 152,
   "id": "0ac7d86f-8ec0-4452-bdef-aeb88094e2ad",
   "metadata": {},
   "outputs": [
    {
     "data": {
      "text/plain": [
       "(9924, 10)"
      ]
     },
     "execution_count": 152,
     "metadata": {},
     "output_type": "execute_result"
    }
   ],
   "source": [
    "df.shape"
   ]
  },
  {
   "cell_type": "code",
   "execution_count": 153,
   "id": "a95c1c92-901a-469d-b6ea-330e0db6cc10",
   "metadata": {},
   "outputs": [
    {
     "name": "stdout",
     "output_type": "stream",
     "text": [
      "<class 'pandas.core.frame.DataFrame'>\n",
      "Index: 9924 entries, 1 to 9999\n",
      "Data columns (total 10 columns):\n",
      " #   Column         Non-Null Count  Dtype         \n",
      "---  ------         --------------  -----         \n",
      " 0   Type           9924 non-null   object        \n",
      " 1   Status         9924 non-null   object        \n",
      " 2   City           9924 non-null   object        \n",
      " 3   State          9924 non-null   object        \n",
      " 4   PostalCode     9924 non-null   float64       \n",
      " 5   GenderCode     9924 non-null   object        \n",
      " 6   BirthDate      9924 non-null   datetime64[ns]\n",
      " 7   MaritalStatus  9924 non-null   object        \n",
      " 8   Enrolled_on    9924 non-null   datetime64[ns]\n",
      " 9   Living status  9924 non-null   object        \n",
      "dtypes: datetime64[ns](2), float64(1), object(7)\n",
      "memory usage: 852.8+ KB\n"
     ]
    }
   ],
   "source": [
    "df.info()"
   ]
  },
  {
   "cell_type": "code",
   "execution_count": 154,
   "id": "ee67357f-dbfe-444b-b498-fb8e830066d4",
   "metadata": {},
   "outputs": [
    {
     "data": {
      "text/plain": [
       "array(['Individual', 'Business'], dtype=object)"
      ]
     },
     "execution_count": 154,
     "metadata": {},
     "output_type": "execute_result"
    }
   ],
   "source": [
    "df1[\"Type\"].unique()"
   ]
  },
  {
   "cell_type": "code",
   "execution_count": 155,
   "id": "d2383fd7-08d8-4330-ab0a-86e443ac5976",
   "metadata": {},
   "outputs": [
    {
     "data": {
      "text/plain": [
       "array(['Active', 'Inactive'], dtype=object)"
      ]
     },
     "execution_count": 155,
     "metadata": {},
     "output_type": "execute_result"
    }
   ],
   "source": [
    "df1[\"Status\"].unique()"
   ]
  },
  {
   "cell_type": "code",
   "execution_count": 156,
   "id": "0c72f675-f60e-47d8-98e9-55bda5a14ec9",
   "metadata": {},
   "outputs": [
    {
     "data": {
      "text/plain": [
       "array(['Valsad', 'Secunderabad', 'Nalgonda', 'Hyderabad', 'Nizamabad',\n",
       "       'Guntur', 'Barasat', '24 Parganas', 'BANGALORE', 'New Delhi',\n",
       "       'Karimnagar', 'Kurnool', 'Nashik', 'Mumbai', 'Nellore', 'Lucknow',\n",
       "       'Jaipur City', 'DELHI', 'Chinsurah', 'Guwahati', 'Goa', 'Gurgaon',\n",
       "       'Thane', 'Vijayawada', 'Ahmedabad', 'Sangareddy', 'Ambala',\n",
       "       'Tirupati', 'Peddapalli', 'Kakinada', 'Haveli', 'Chennai',\n",
       "       'Ahmedabad City', 'New Mumbai', 'Pune City', 'West Godavari',\n",
       "       'Jaipur', 'Pune', 'Bhopal', 'Madurai', 'Kengeri', 'Sangli',\n",
       "       'Cachar', 'Mumbai  East', 'Beed', 'Medak', 'Prakasam', 'Chittoor',\n",
       "       'Adilabad', 'Mumbai  West', 'Wanaparthy', 'Hyderabad South East',\n",
       "       'Thane Central', 'Kolkata', 'Ernakulam', 'Bhubaneswar', 'Warangal',\n",
       "       'Nandyal', 'Mukhed', 'Idukki', 'Krishna', 'Alibag', 'Tambaram',\n",
       "       'Hanamkonda', 'Visakhapatnam', 'Navi Mumbai', 'Hardoi',\n",
       "       'Yerraguntla', 'Bardhaman', 'Mumbai  North', 'Mumbai  North West',\n",
       "       'Peddapuram', 'Chandigarh', 'City', 'Yeotamal', 'Pondicherry',\n",
       "       'Ghaziabad', 'Midnapore', 'Khammam', 'Thanjavur', 'Surat',\n",
       "       'Faridabad', 'Navsari', 'Pune Moffusil', 'Suryapet', 'Chalisgaon',\n",
       "       'Patiala', 'Kodaikanal', 'Panaji', 'Byatarayanapura',\n",
       "       'Mumbai  South', 'Eluru', 'Narasaraopet', 'Anantapur',\n",
       "       'East Godavari', 'Dhanbad', 'Bangalore South', 'Chikamaglur',\n",
       "       'Cuddapah', 'Sandur', 'Jodhpur', 'Dhule', 'Thane West',\n",
       "       'Mumbai North', 'Nagpur City', 'Tenali', 'Changanacherry',\n",
       "       'Ahmednagar', 'Bangalore East', 'Bidar', 'Ludhiana City', 'Hissar',\n",
       "       'Anakapalle', 'Shillong', 'Chennai City South', 'Maraimalainagar',\n",
       "       'Bhagalpur', 'Koduru', 'Tiruchirappalli', 'Bhimavaram',\n",
       "       'Indore City', 'Kanyakumari', 'Vizianagaram', 'Yeotmal',\n",
       "       'Mahadevapura', 'Nasik', 'Kottayam', 'Mandsaur', 'Hyderabad GPO',\n",
       "       'Thrissur', 'Amravati', 'Gautam Buddha Nagar', 'Nagpur', 'Ozar',\n",
       "       'New Town', 'Ludhiana', 'Mumbai  North East', 'Coimbatore',\n",
       "       'Thodupuzha', 'Kota', 'Meerut', 'Srikakulam', 'Mysore', 'Calcutta',\n",
       "       'Kanuru', 'GUWAHATI', 'Bantumilli', 'Tirur', 'Anand', 'Gulbarga',\n",
       "       'delhi', 'Chandrapur', 'Mandi Dabwali', 'Bareilly', 'Ganganagar',\n",
       "       'Tumkur', 'Virudhunagar', 'PANJIM', 'Sahibganj', 'Amritsar',\n",
       "       'Hamirpur', 'Vandavasi', 'Gandhinagar', 'Gyanpur', 'Quilon',\n",
       "       'Bhiwandi', 'Kanpur', 'Partur', 'Patna', 'Cannanore', 'Bhiwani',\n",
       "       'Himatnagar', 'Erode', 'Sriganganagar', 'Sagar', 'Gudivada',\n",
       "       'Shimoga', 'Jhansi', 'Sriperumbudur', 'Silchar', 'Mahabubnagar',\n",
       "       'Mandi', 'Aurangabad(Maharashtra)', 'Bhilwara', 'Tura', 'Solapur',\n",
       "       'Karur', 'Rajahmundry', 'Proddatur', 'Berhampur', 'NewDelhi',\n",
       "       'Vasai', 'Trivandrum', 'Siliguri', 'Jalgaon', 'Durg', 'Alipore',\n",
       "       'Pappinisseri', 'Vellore', 'Sholapur', 'Vadodara', 'Malapuram',\n",
       "       'Jamnagar', 'Ambala HQ', 'Bangalore HQ', 'Indore', 'Lucknow HQ',\n",
       "       'Pathanamthitta', 'Kanpur City', 'South Karnataka', 'Kochi',\n",
       "       'Karnal', 'Salem', 'Jabalpur', 'Sikkim', 'BHOPAL', 'TIRUVALLUR',\n",
       "       'Bhatinda', 'Akola', 'Bellary', 'Udupi', 'Betul', 'Udaipur',\n",
       "       'Chennai City', 'Singhbhum', 'Nadiad', 'Valpoi', 'Allahabad',\n",
       "       'Udgir', 'Nanded', 'Garividi', 'Kozhikode', 'Channapatna',\n",
       "       'Kandukur', 'Presidency', 'Kolhapur', 'Baramati', 'Mangalore',\n",
       "       'Dimapur', 'Ajmer', 'Calicut', 'Faridkot', 'Sanquelim', 'Ferozpur',\n",
       "       'Balangir', 'Varanasi', 'Katni', 'MYSORE', 'Hoshiarpur',\n",
       "       'Tiruppur', 'Dehradun', 'Mumbai East', 'Rohtak', 'Kollam',\n",
       "       'kolkata', 'Pedana', 'Rae Bareilly', 'Alwaye', 'Pune City East',\n",
       "       'Tadepalligudem', 'Pauri', 'Latur', 'Jalandhar', 'Ahmedabad HQ',\n",
       "       'Palghat', 'Mavelikara', 'Mumbai West', 'Darjeeling', 'Kurseong',\n",
       "       'Satara', 'CityName', 'Solan', 'Ranchi', 'Kohima', 'ONGOLE',\n",
       "       'Chumukhedima', 'Pali', 'Jamshedpur', 'Nasiyanur', 'Kasargode',\n",
       "       'Murud', 'Calcutta South', 'Dharmavaram', 'Bilaspur', 'Sirsa',\n",
       "       'Gangtok', 'Avadi', 'Margao', 'Dayalbagh', 'Rajkot', 'Motihari',\n",
       "       'Mysuru', 'Jalpaiguri', 'Thalassery', 'New Delhi South West',\n",
       "       'Tirunelveli', 'Pendurthi', 'Wayanad', 'Moradabad', 'Bharuch',\n",
       "       'Rewa', 'Irinjalakuda', 'Faizabad', 'Bhavnagar', 'Dharwad',\n",
       "       'Thiruvallur', 'Chennai City North', 'Aurangabad', 'Perungudi',\n",
       "       'AHMEDABAD', 'Balaghat', 'GURGAON', 'Saltlake', 'Purulia',\n",
       "       'Raipur', 'Aligarh', 'Churu', 'Kailashahar', 'Bijapur', 'Mormugao',\n",
       "       'Amalapuram', 'Cairo', 'Nawadha', 'Madhubani', 'Trichur',\n",
       "       'Kapurthala', 'Hazaribagh', 'Kharagpur', 'Pune City West', 'Kheda',\n",
       "       'Saltklake', 'Alwar', 'Chhindwara', 'Ujjain', 'Vashi', 'KONDAPUR',\n",
       "       'Purnea', 'Mumbai G.P.O.', 'Sadar', 'Nuzvid', 'MUMBAI', 'NOIDA',\n",
       "       'RAIPUR', 'Raichur', 'Abohar', 'Belgaum', 'Dharamsala', 'Dindigul',\n",
       "       'Vadakara', 'Mulavukad', 'Avaniapuram', 'PONDICHERRY',\n",
       "       'Kovilpatti', 'Sedam', 'Khandwa', 'Gorakhpur', 'asfd', 'Saidapet',\n",
       "       'Hingoli', 'Changanach', 'Indore Moffusil', 'Chengalpattu',\n",
       "       'Kolkata East', 'Agra', 'Mubarakpur', 'Manjeri', 'Ziro', 'Sonepat',\n",
       "       'Digha', 'Ranip', 'Bangalore West', 'Hindupur'], dtype=object)"
      ]
     },
     "execution_count": 156,
     "metadata": {},
     "output_type": "execute_result"
    }
   ],
   "source": [
    "df1[\"City\"].unique()"
   ]
  },
  {
   "cell_type": "code",
   "execution_count": 157,
   "id": "5c06a19a-fc46-4de5-8668-6b4def25df05",
   "metadata": {},
   "outputs": [
    {
     "data": {
      "text/plain": [
       "array([396001., 500011., 508101., ..., 560073., 560009., 515331.])"
      ]
     },
     "execution_count": 157,
     "metadata": {},
     "output_type": "execute_result"
    }
   ],
   "source": [
    "df1[\"PostalCode\"].unique()"
   ]
  },
  {
   "cell_type": "code",
   "execution_count": 158,
   "id": "39967dcc-4244-4806-9865-238519a2ceb4",
   "metadata": {},
   "outputs": [
    {
     "data": {
      "text/plain": [
       "array(['MALE', 'FEMALE', 'OTHER'], dtype=object)"
      ]
     },
     "execution_count": 158,
     "metadata": {},
     "output_type": "execute_result"
    }
   ],
   "source": [
    "df1[\"GenderCode\"].unique()"
   ]
  },
  {
   "cell_type": "code",
   "execution_count": 159,
   "id": "a26b9f97-4431-490a-82e9-970c44b31e96",
   "metadata": {},
   "outputs": [
    {
     "data": {
      "text/plain": [
       "array(['1992-11-02', '1988-11-25', '1983-06-13', ..., '1987-03-15',\n",
       "       '1978-02-10', '1984-11-22'], dtype=object)"
      ]
     },
     "execution_count": 159,
     "metadata": {},
     "output_type": "execute_result"
    }
   ],
   "source": [
    "df1[\"BirthDate\"].unique()"
   ]
  },
  {
   "cell_type": "code",
   "execution_count": 160,
   "id": "cfbd9d80-a085-4622-8ba0-ca7b0bc398b0",
   "metadata": {},
   "outputs": [
    {
     "data": {
      "text/plain": [
       "array(['M', 'U'], dtype=object)"
      ]
     },
     "execution_count": 160,
     "metadata": {},
     "output_type": "execute_result"
    }
   ],
   "source": [
    "df1[\"MaritalStatus\"].unique()"
   ]
  },
  {
   "cell_type": "code",
   "execution_count": 161,
   "id": "97131403-f39a-4b1e-ae90-6d63684dd225",
   "metadata": {},
   "outputs": [
    {
     "data": {
      "text/plain": [
       "array(['2018-08-14 18:02:46', '2018-08-14 18:05:23',\n",
       "       '2018-08-14 18:37:33', ..., '2018-06-09 03:55:25',\n",
       "       '2018-06-09 04:00:01', '2018-06-09 04:05:30'], dtype=object)"
      ]
     },
     "execution_count": 161,
     "metadata": {},
     "output_type": "execute_result"
    }
   ],
   "source": [
    "df1[\"Enrolled_on\"].unique()"
   ]
  },
  {
   "cell_type": "code",
   "execution_count": 162,
   "id": "b0e64830-7998-48dd-92c5-d8d15e69ce84",
   "metadata": {},
   "outputs": [
    {
     "data": {
      "text/plain": [
       "array(['couple with children', 'Couple without children',\n",
       "       'Single/living alone'], dtype=object)"
      ]
     },
     "execution_count": 162,
     "metadata": {},
     "output_type": "execute_result"
    }
   ],
   "source": [
    "df[\"Living status\"].unique()"
   ]
  },
  {
   "cell_type": "code",
   "execution_count": 163,
   "id": "b1034851-6566-4ad9-b8ec-8fdc4a8ccfed",
   "metadata": {},
   "outputs": [
    {
     "data": {
      "text/html": [
       "<div>\n",
       "<style scoped>\n",
       "    .dataframe tbody tr th:only-of-type {\n",
       "        vertical-align: middle;\n",
       "    }\n",
       "\n",
       "    .dataframe tbody tr th {\n",
       "        vertical-align: top;\n",
       "    }\n",
       "\n",
       "    .dataframe thead th {\n",
       "        text-align: right;\n",
       "    }\n",
       "</style>\n",
       "<table border=\"1\" class=\"dataframe\">\n",
       "  <thead>\n",
       "    <tr style=\"text-align: right;\">\n",
       "      <th></th>\n",
       "      <th>PostalCode</th>\n",
       "    </tr>\n",
       "  </thead>\n",
       "  <tbody>\n",
       "    <tr>\n",
       "      <th>count</th>\n",
       "      <td>9924.000000</td>\n",
       "    </tr>\n",
       "    <tr>\n",
       "      <th>mean</th>\n",
       "      <td>473374.003930</td>\n",
       "    </tr>\n",
       "    <tr>\n",
       "      <th>std</th>\n",
       "      <td>84155.006859</td>\n",
       "    </tr>\n",
       "    <tr>\n",
       "      <th>min</th>\n",
       "      <td>8905.000000</td>\n",
       "    </tr>\n",
       "    <tr>\n",
       "      <th>25%</th>\n",
       "      <td>411036.750000</td>\n",
       "    </tr>\n",
       "    <tr>\n",
       "      <th>50%</th>\n",
       "      <td>500034.000000</td>\n",
       "    </tr>\n",
       "    <tr>\n",
       "      <th>75%</th>\n",
       "      <td>500082.000000</td>\n",
       "    </tr>\n",
       "    <tr>\n",
       "      <th>max</th>\n",
       "      <td>854337.000000</td>\n",
       "    </tr>\n",
       "  </tbody>\n",
       "</table>\n",
       "</div>"
      ],
      "text/plain": [
       "          PostalCode\n",
       "count    9924.000000\n",
       "mean   473374.003930\n",
       "std     84155.006859\n",
       "min      8905.000000\n",
       "25%    411036.750000\n",
       "50%    500034.000000\n",
       "75%    500082.000000\n",
       "max    854337.000000"
      ]
     },
     "execution_count": 163,
     "metadata": {},
     "output_type": "execute_result"
    }
   ],
   "source": [
    "df1.describe()"
   ]
  },
  {
   "cell_type": "code",
   "execution_count": 164,
   "id": "bb09575c-cdcb-4b7a-90f7-ef9a7e569f32",
   "metadata": {},
   "outputs": [
    {
     "data": {
      "text/html": [
       "<div>\n",
       "<style scoped>\n",
       "    .dataframe tbody tr th:only-of-type {\n",
       "        vertical-align: middle;\n",
       "    }\n",
       "\n",
       "    .dataframe tbody tr th {\n",
       "        vertical-align: top;\n",
       "    }\n",
       "\n",
       "    .dataframe thead th {\n",
       "        text-align: right;\n",
       "    }\n",
       "</style>\n",
       "<table border=\"1\" class=\"dataframe\">\n",
       "  <thead>\n",
       "    <tr style=\"text-align: right;\">\n",
       "      <th></th>\n",
       "      <th>Type</th>\n",
       "      <th>Status</th>\n",
       "      <th>City</th>\n",
       "      <th>State</th>\n",
       "      <th>GenderCode</th>\n",
       "      <th>BirthDate</th>\n",
       "      <th>MaritalStatus</th>\n",
       "      <th>Enrolled_on</th>\n",
       "      <th>Living status</th>\n",
       "    </tr>\n",
       "  </thead>\n",
       "  <tbody>\n",
       "    <tr>\n",
       "      <th>count</th>\n",
       "      <td>9924</td>\n",
       "      <td>9924</td>\n",
       "      <td>9924</td>\n",
       "      <td>9924</td>\n",
       "      <td>9924</td>\n",
       "      <td>9924</td>\n",
       "      <td>9924</td>\n",
       "      <td>9924</td>\n",
       "      <td>9924</td>\n",
       "    </tr>\n",
       "    <tr>\n",
       "      <th>unique</th>\n",
       "      <td>2</td>\n",
       "      <td>2</td>\n",
       "      <td>372</td>\n",
       "      <td>31</td>\n",
       "      <td>3</td>\n",
       "      <td>6682</td>\n",
       "      <td>2</td>\n",
       "      <td>9918</td>\n",
       "      <td>3</td>\n",
       "    </tr>\n",
       "    <tr>\n",
       "      <th>top</th>\n",
       "      <td>Individual</td>\n",
       "      <td>Active</td>\n",
       "      <td>Hyderabad</td>\n",
       "      <td>Telangana</td>\n",
       "      <td>MALE</td>\n",
       "      <td>1900-01-01</td>\n",
       "      <td>M</td>\n",
       "      <td>2018-08-08 16:38:00</td>\n",
       "      <td>couple with children</td>\n",
       "    </tr>\n",
       "    <tr>\n",
       "      <th>freq</th>\n",
       "      <td>9733</td>\n",
       "      <td>9897</td>\n",
       "      <td>3663</td>\n",
       "      <td>6070</td>\n",
       "      <td>7000</td>\n",
       "      <td>242</td>\n",
       "      <td>9673</td>\n",
       "      <td>2</td>\n",
       "      <td>4785</td>\n",
       "    </tr>\n",
       "  </tbody>\n",
       "</table>\n",
       "</div>"
      ],
      "text/plain": [
       "              Type  Status       City      State GenderCode   BirthDate  \\\n",
       "count         9924    9924       9924       9924       9924        9924   \n",
       "unique           2       2        372         31          3        6682   \n",
       "top     Individual  Active  Hyderabad  Telangana       MALE  1900-01-01   \n",
       "freq          9733    9897       3663       6070       7000         242   \n",
       "\n",
       "       MaritalStatus          Enrolled_on         Living status  \n",
       "count           9924                 9924                  9924  \n",
       "unique             2                 9918                     3  \n",
       "top                M  2018-08-08 16:38:00  couple with children  \n",
       "freq            9673                    2                  4785  "
      ]
     },
     "execution_count": 164,
     "metadata": {},
     "output_type": "execute_result"
    }
   ],
   "source": [
    "df1.describe(include=\"object\")"
   ]
  },
  {
   "cell_type": "code",
   "execution_count": 165,
   "id": "dd1e884d-d155-4c94-bcad-78898d046ed1",
   "metadata": {},
   "outputs": [],
   "source": [
    "category = [\"Type\",\"Status\",\"City\",\"State\",\"GenderCode\",\"BirthDate\",\"MaritalStatus\",\"Enrolled_on\",\"Living status\"]"
   ]
  },
  {
   "cell_type": "code",
   "execution_count": 166,
   "id": "67ff7b39-354c-4022-8235-5709f956731d",
   "metadata": {},
   "outputs": [
    {
     "data": {
      "text/plain": [
       "Type        Status    City       State           GenderCode  BirthDate   MaritalStatus  Enrolled_on          Living status          \n",
       "Business    Active    AHMEDABAD  Gujarat         MALE        1900-01-01  M              2019-10-23 20:01:57  couple with children       1\n",
       "Individual  Active    Nandyal    Andhra Pradesh  MALE        1988-06-12  M              2018-08-27 15:45:05  Couple without children    1\n",
       "                      Nanded     Maharashtra     MALE        1979-05-17  M              2019-08-14 20:59:24  Couple without children    1\n",
       "                                                             1984-05-07  M              2018-10-11 11:24:01  couple with children       1\n",
       "                      Nandyal    Andhra Pradesh  FEMALE      1970-08-16  M              2018-11-11 11:25:02  Couple without children    1\n",
       "                                                                                                                                       ..\n",
       "                      Hyderabad  Telangana       MALE        1985-08-09  M              2018-07-13 04:56:04  couple with children       1\n",
       "                                                                                        2018-10-11 08:03:35  couple with children       1\n",
       "                                                                                        2019-07-09 07:06:12  Couple without children    1\n",
       "                                                             1985-08-16  M              2019-08-11 14:30:18  couple with children       1\n",
       "            Inactive  Thane      Maharashtra     FEMALE      1984-06-01  M              2019-12-27 05:51:56  Single/living alone        1\n",
       "Name: count, Length: 9924, dtype: int64"
      ]
     },
     "execution_count": 166,
     "metadata": {},
     "output_type": "execute_result"
    }
   ],
   "source": [
    "df[category].value_counts()"
   ]
  },
  {
   "cell_type": "code",
   "execution_count": 167,
   "id": "cd033395-2478-4f69-84d0-ca5c799d28cc",
   "metadata": {},
   "outputs": [
    {
     "name": "stdout",
     "output_type": "stream",
     "text": [
      "Type\n",
      "Individual    9733\n",
      "Business       191\n",
      "Name: count, dtype: int64 \n",
      "\n",
      "Status\n",
      "Active      9897\n",
      "Inactive      27\n",
      "Name: count, dtype: int64 \n",
      "\n",
      "City\n",
      "Hyderabad       3663\n",
      "Secunderabad    2094\n",
      "Mumbai          1498\n",
      "BANGALORE        313\n",
      "Thane            227\n",
      "                ... \n",
      "Presidency         1\n",
      "Baramati           1\n",
      "Dimapur            1\n",
      "Ajmer              1\n",
      "Hindupur           1\n",
      "Name: count, Length: 372, dtype: int64 \n",
      "\n",
      "State\n",
      "Telangana            6070\n",
      "Maharashtra          2258\n",
      "Andhra Pradesh        417\n",
      "Karnataka             392\n",
      "Delhi                 150\n",
      "Tamil Nadu            126\n",
      "Kerala                 76\n",
      "Uttar Pradesh          75\n",
      "Haryana                70\n",
      "Gujarat                69\n",
      "West Bengal            55\n",
      "Rajasthan              35\n",
      "Madhya Pradesh         33\n",
      "Punjab                 22\n",
      "Goa                    11\n",
      "Jharkhand              11\n",
      "Bihar                  10\n",
      "Odisha                  7\n",
      "Chattisgarh             6\n",
      "Assam                   5\n",
      "Himachal Pradesh        4\n",
      "Chandigarh              4\n",
      "Meghalaya               3\n",
      "Pondicherry             3\n",
      "Nagaland                3\n",
      "Uttarakhand             3\n",
      "Tripura                 2\n",
      "Sikkim                  1\n",
      "Daman And Diu           1\n",
      "Puducherry              1\n",
      "Arunachal Pradesh       1\n",
      "Name: count, dtype: int64 \n",
      "\n",
      "GenderCode\n",
      "MALE      7000\n",
      "FEMALE    2907\n",
      "OTHER       17\n",
      "Name: count, dtype: int64 \n",
      "\n",
      "BirthDate\n",
      "1900-01-01    242\n",
      "1966-05-05      9\n",
      "1970-08-09      8\n",
      "1970-08-08      8\n",
      "1987-01-01      7\n",
      "             ... \n",
      "1970-01-14      1\n",
      "1986-11-26      1\n",
      "1975-02-25      1\n",
      "1977-06-28      1\n",
      "1984-11-22      1\n",
      "Name: count, Length: 6682, dtype: int64 \n",
      "\n",
      "MaritalStatus\n",
      "M    9673\n",
      "U     251\n",
      "Name: count, dtype: int64 \n",
      "\n",
      "Enrolled_on\n",
      "2018-08-08 16:38:00    2\n",
      "2019-08-19 11:34:03    2\n",
      "2018-08-12 13:08:49    2\n",
      "2018-06-14 10:04:18    2\n",
      "2018-08-25 12:52:26    2\n",
      "                      ..\n",
      "2019-10-13 15:47:46    1\n",
      "2019-10-13 16:12:11    1\n",
      "2019-10-13 17:27:41    1\n",
      "2019-10-13 18:24:57    1\n",
      "2018-06-09 04:05:30    1\n",
      "Name: count, Length: 9918, dtype: int64 \n",
      "\n",
      "Living status\n",
      "couple with children       4785\n",
      "Couple without children    3495\n",
      "Single/living alone        1644\n",
      "Name: count, dtype: int64 \n",
      "\n"
     ]
    }
   ],
   "source": [
    "for i in category:\n",
    "    print(df1[i].value_counts(),\"\\n\")"
   ]
  },
  {
   "cell_type": "markdown",
   "id": "13e70672-6330-44d5-a2ef-cadb2365e7c5",
   "metadata": {},
   "source": [
    "## plots \n",
    "- status: Active in individual & business.\n",
    "- status:Active & in city top 10,state top 10.\n",
    "- gender code:male & female in active.\n",
    "- marital:m in active & u in active.\n",
    "- Living status:couple with actvive & w/o active & Single/living alone active.\n",
    "- "
   ]
  },
  {
   "cell_type": "code",
   "execution_count": 191,
   "id": "aa333d9e-a753-477e-b016-a2fb97633481",
   "metadata": {},
   "outputs": [
    {
     "data": {
      "image/png": "[encoded data removed]",
      "text/plain": [
       "<Figure size 640x480 with 1 Axes>"
      ]
     },
     "metadata": {},
     "output_type": "display_data"
    }
   ],
   "source": [
    "# OVERALL ACTIVE & INACTIVE STATUS\n",
    "status_counts = df['Status'].value_counts()\n",
    "plt.pie(status_counts, labels=status_counts.index, autopct='%1.1f%%', startangle=90)\n",
    "plt.title(\"Status Distribution (Active vs Inactive)\")\n",
    "plt.show()"
   ]
  },
  {
   "cell_type": "code",
   "execution_count": 168,
   "id": "38d84390-feef-4053-9377-776387392eec",
   "metadata": {},
   "outputs": [
    {
     "data": {
      "text/html": [
       "<div>\n",
       "<style scoped>\n",
       "    .dataframe tbody tr th:only-of-type {\n",
       "        vertical-align: middle;\n",
       "    }\n",
       "\n",
       "    .dataframe tbody tr th {\n",
       "        vertical-align: top;\n",
       "    }\n",
       "\n",
       "    .dataframe thead th {\n",
       "        text-align: right;\n",
       "    }\n",
       "</style>\n",
       "<table border=\"1\" class=\"dataframe\">\n",
       "  <thead>\n",
       "    <tr style=\"text-align: right;\">\n",
       "      <th>Type</th>\n",
       "      <th>Business</th>\n",
       "      <th>Individual</th>\n",
       "      <th>All</th>\n",
       "    </tr>\n",
       "    <tr>\n",
       "      <th>Status</th>\n",
       "      <th></th>\n",
       "      <th></th>\n",
       "      <th></th>\n",
       "    </tr>\n",
       "  </thead>\n",
       "  <tbody>\n",
       "    <tr>\n",
       "      <th>Active</th>\n",
       "      <td>0.018037</td>\n",
       "      <td>0.979242</td>\n",
       "      <td>0.997279</td>\n",
       "    </tr>\n",
       "    <tr>\n",
       "      <th>Inactive</th>\n",
       "      <td>0.001209</td>\n",
       "      <td>0.001511</td>\n",
       "      <td>0.002721</td>\n",
       "    </tr>\n",
       "    <tr>\n",
       "      <th>All</th>\n",
       "      <td>0.019246</td>\n",
       "      <td>0.980754</td>\n",
       "      <td>1.000000</td>\n",
       "    </tr>\n",
       "  </tbody>\n",
       "</table>\n",
       "</div>"
      ],
      "text/plain": [
       "Type      Business  Individual       All\n",
       "Status                                  \n",
       "Active    0.018037    0.979242  0.997279\n",
       "Inactive  0.001209    0.001511  0.002721\n",
       "All       0.019246    0.980754  1.000000"
      ]
     },
     "execution_count": 168,
     "metadata": {},
     "output_type": "execute_result"
    }
   ],
   "source": [
    "#q.no1\n",
    "pd.crosstab(df[\"Status\"],df[\"Type\"],margins=True,normalize=True)"
   ]
  },
  {
   "cell_type": "code",
   "execution_count": 169,
   "id": "440b1e69-80ae-45df-afdf-eac4010caa4a",
   "metadata": {},
   "outputs": [
    {
     "data": {
      "text/html": [
       "<div>\n",
       "<style scoped>\n",
       "    .dataframe tbody tr th:only-of-type {\n",
       "        vertical-align: middle;\n",
       "    }\n",
       "\n",
       "    .dataframe tbody tr th {\n",
       "        vertical-align: top;\n",
       "    }\n",
       "\n",
       "    .dataframe thead th {\n",
       "        text-align: right;\n",
       "    }\n",
       "</style>\n",
       "<table border=\"1\" class=\"dataframe\">\n",
       "  <thead>\n",
       "    <tr style=\"text-align: right;\">\n",
       "      <th>Type</th>\n",
       "      <th>Business</th>\n",
       "      <th>Individual</th>\n",
       "    </tr>\n",
       "    <tr>\n",
       "      <th>Status</th>\n",
       "      <th></th>\n",
       "      <th></th>\n",
       "    </tr>\n",
       "  </thead>\n",
       "  <tbody>\n",
       "    <tr>\n",
       "      <th>Active</th>\n",
       "      <td>179</td>\n",
       "      <td>9718</td>\n",
       "    </tr>\n",
       "    <tr>\n",
       "      <th>Inactive</th>\n",
       "      <td>12</td>\n",
       "      <td>15</td>\n",
       "    </tr>\n",
       "  </tbody>\n",
       "</table>\n",
       "</div>"
      ],
      "text/plain": [
       "Type      Business  Individual\n",
       "Status                        \n",
       "Active         179        9718\n",
       "Inactive        12          15"
      ]
     },
     "execution_count": 169,
     "metadata": {},
     "output_type": "execute_result"
    }
   ],
   "source": [
    "pd.crosstab(df[\"Status\"],df[\"Type\"])"
   ]
  },
  {
   "cell_type": "code",
   "execution_count": 170,
   "id": "fda899f3-2a84-481f-bc48-7c9ec49e6353",
   "metadata": {},
   "outputs": [
    {
     "data": {
      "image/png": "[encoded data removed]",
      "text/plain": [
       "<Figure size 617.75x500 with 1 Axes>"
      ]
     },
     "metadata": {},
     "output_type": "display_data"
    }
   ],
   "source": [
    "sns.catplot(x='Status',hue= 'Type', data=df,kind='count')\n",
    "plt.show()"
   ]
  },
  {
   "cell_type": "code",
   "execution_count": 171,
   "id": "f18aabc3-68d2-4f82-ba60-2f7a82f3ba9c",
   "metadata": {},
   "outputs": [
    {
     "data": {
      "image/png": "[encoded data removed]",
      "text/plain": [
       "<Figure size 640x480 with 1 Axes>"
      ]
     },
     "metadata": {},
     "output_type": "display_data"
    }
   ],
   "source": [
    "# Top 10 Cities\n",
    "top_10_cities = df[\"City\"].value_counts().head(10)\n",
    "sns.barplot( x=top_10_cities.index,y=top_10_cities.values)\n",
    "plt.title(\"Top 10 Cities\")\n",
    "plt.xlabel(\"City\")\n",
    "plt.ylabel(\"Count\")\n",
    "plt.xticks(rotation=45)\n",
    "plt.tight_layout()\n",
    "plt.show()"
   ]
  },
  {
   "cell_type": "code",
   "execution_count": 172,
   "id": "e15661ff-e72f-4e04-b267-55377fbd466e",
   "metadata": {},
   "outputs": [
    {
     "data": {
      "image/png": "[encoded data removed]",
      "text/plain": [
       "<Figure size 640x480 with 1 Axes>"
      ]
     },
     "metadata": {},
     "output_type": "display_data"
    }
   ],
   "source": [
    "# Top 10 States\n",
    "top_10_states = df[\"State\"].value_counts().head(10)\n",
    "sns.barplot(x=top_10_states.index,y=top_10_states.values)\n",
    "plt.title(\"Top 10 States\")\n",
    "plt.xlabel(\"State\")\n",
    "plt.ylabel(\"Count\")\n",
    "plt.xticks(rotation=45)\n",
    "plt.tight_layout()\n",
    "plt.show()"
   ]
  },
  {
   "cell_type": "code",
   "execution_count": 173,
   "id": "e7672f38-9c1a-468b-86ff-4e5db26c0f56",
   "metadata": {},
   "outputs": [
    {
     "data": {
      "image/png": "[encoded data removed]",
      "text/plain": [
       "<Figure size 604.75x500 with 1 Axes>"
      ]
     },
     "metadata": {},
     "output_type": "display_data"
    }
   ],
   "source": [
    "#Q.no3: male & female status\n",
    "sns.catplot(x='Status',hue='GenderCode',data=df1,kind='count')\n",
    "plt.show()"
   ]
  },
  {
   "cell_type": "code",
   "execution_count": 174,
   "id": "620ab034-5124-4b3a-be72-50681a6bb081",
   "metadata": {},
   "outputs": [
    {
     "data": {
      "image/png": "[encoded data removed]",
      "text/plain": [
       "<Figure size 603.611x500 with 1 Axes>"
      ]
     },
     "metadata": {},
     "output_type": "display_data"
    }
   ],
   "source": [
    "#Q.no4: Marital status \n",
    "sns.catplot(x='Status',hue='MaritalStatus',data=df1,kind='count')\n",
    "plt.show()"
   ]
  },
  {
   "cell_type": "code",
   "execution_count": 175,
   "id": "53e46879-f68b-4169-ac81-c38b13e08ffd",
   "metadata": {},
   "outputs": [
    {
     "data": {
      "image/png": "[encoded data removed]",
      "text/plain": [
       "<Figure size 715x500 with 1 Axes>"
      ]
     },
     "metadata": {},
     "output_type": "display_data"
    }
   ],
   "source": [
    "#Q.no:5 Living status\n",
    "sns.catplot(x='Status',hue='Living status',data=df1,kind='count')\n",
    "plt.show()"
   ]
  },
  {
   "cell_type": "code",
   "execution_count": 176,
   "id": "2e639d9c-4c0c-45c9-9e16-74dd6cac09c8",
   "metadata": {},
   "outputs": [
    {
     "data": {
      "image/png": "[encoded data removed]",
      "text/plain": [
       "<Figure size 640x480 with 1 Axes>"
      ]
     },
     "metadata": {},
     "output_type": "display_data"
    }
   ],
   "source": [
    "\n",
    "# 1. Filter for active people\n",
    "df_active = df[df[\"Status\"] == \"Active\"]\n",
    "\n",
    "# 2. Get top 10 cities among active people\n",
    "top10_cities_active = df_active[\"City\"].value_counts().head(10).index\n",
    "\n",
    "# 3. Filter again for those cities\n",
    "df_active_top10 = df_active[df_active[\"City\"].isin(top10_cities_active)]\n",
    "\n",
    "# 4. Create pivot table for stacked bar\n",
    "city_marital_counts = df_active_top10.groupby([\"City\", \"MaritalStatus\"]).size().unstack(fill_value=0)\n",
    "\n",
    "# 5. Plot stacked bar\n",
    "city_marital_counts.plot(kind=\"bar\", stacked=True)\n",
    "\n",
    "plt.title(\"Top 10 Cities (Active People) by Marital Status\")\n",
    "plt.xlabel(\"City\")\n",
    "plt.ylabel(\"Count\")\n",
    "plt.legend(title=\"Marital Status\")\n",
    "plt.xticks(rotation=45)\n",
    "plt.tight_layout()\n",
    "plt.show()\n"
   ]
  },
  {
   "cell_type": "markdown",
   "id": "52fdf63a-95e8-43db-80a9-261d7349c4e5",
   "metadata": {},
   "source": [
    "## Advanced Visual Insights\n",
    "Below are additional charts created to explore customer trends and engagement in more depth.\n"
   ]
  },
  {
   "cell_type": "code",
   "execution_count": 187,
   "id": "340c04c5-e68b-491b-b93e-70a56e93be24",
   "metadata": {},
   "outputs": [
    {
     "name": "stderr",
     "output_type": "stream",
     "text": [
      "C:\\Users\\DELL\\AppData\\Local\\Temp\\ipykernel_43300\\3159379637.py:6: FutureWarning: \n",
      "\n",
      "Passing `palette` without assigning `hue` is deprecated and will be removed in v0.14.0. Assign the `x` variable to `hue` and set `legend=False` for the same effect.\n",
      "\n",
      "  sns.countplot(x='Year', data=df, palette='viridis')\n"
     ]
    },
    {
     "data": {
      "image/png": "[encoded data removed]",
      "text/plain": [
       "<Figure size 800x500 with 1 Axes>"
      ]
     },
     "metadata": {},
     "output_type": "display_data"
    }
   ],
   "source": [
    "# Convert and extract year\n",
    "df['Enrolled_on'] = pd.to_datetime(df['Enrolled_on'], errors='coerce')\n",
    "df['Year'] = df['Enrolled_on'].dt.year\n",
    "\n",
    "plt.figure(figsize=(8,5))\n",
    "sns.countplot(x='Year', data=df, palette='viridis')\n",
    "plt.title('Enrollment Trend by Year', fontsize=14, fontweight='bold')\n",
    "plt.xlabel('Year')\n",
    "plt.ylabel('Number of Enrollments')\n",
    "plt.grid(axis='y', linestyle='--', alpha=0.7)\n",
    "plt.show()\n"
   ]
  },
  {
   "cell_type": "code",
   "execution_count": 188,
   "id": "cf00bec2-20ee-4844-abb2-97707df4c172",
   "metadata": {},
   "outputs": [
    {
     "data": {
      "image/png": "[encoded data removed]",
      "text/plain": [
       "<Figure size 1000x600 with 1 Axes>"
      ]
     },
     "metadata": {},
     "output_type": "display_data"
    }
   ],
   "source": [
    "top_cities = df['City'].value_counts().nlargest(10).index\n",
    "subset = df[df['City'].isin(top_cities)]\n",
    "\n",
    "plt.figure(figsize=(10,6))\n",
    "sns.countplot(data=subset, x='City', hue='Status', palette='coolwarm')\n",
    "plt.title('Top 10 Cities: Active vs Inactive Customers', fontsize=14, fontweight='bold')\n",
    "plt.xlabel('City')\n",
    "plt.ylabel('Count')\n",
    "plt.xticks(rotation=45)\n",
    "plt.legend(title='Status')\n",
    "plt.grid(axis='y', linestyle='--', alpha=0.7)\n",
    "plt.show()\n"
   ]
  },
  {
   "cell_type": "code",
   "execution_count": 189,
   "id": "3c5036e3-6d1c-4726-8c34-a8aa08650a24",
   "metadata": {},
   "outputs": [
    {
     "data": {
      "image/png": "[encoded data removed]",
      "text/plain": [
       "<Figure size 600x500 with 1 Axes>"
      ]
     },
     "metadata": {},
     "output_type": "display_data"
    }
   ],
   "source": [
    "plt.figure(figsize=(6,5))\n",
    "sns.countplot(x='GenderCode', hue='MaritalStatus', data=df, palette='Set2')\n",
    "plt.title('Gender vs Marital Status Distribution', fontsize=14, fontweight='bold')\n",
    "plt.xlabel('Gender')\n",
    "plt.ylabel('Count')\n",
    "plt.legend(title='Marital Status')\n",
    "plt.grid(axis='y', linestyle='--', alpha=0.7)\n",
    "plt.show()\n"
   ]
  },
  {
   "cell_type": "markdown",
   "id": "ad82ad6d-8295-4a7b-92e2-51cff8f85704",
   "metadata": {},
   "source": [
    "### 📌 Conclusion\n",
    "- Data cleaning improved city and state consistency.\n",
    "- Active participants dominate, showing strong engagement.\n",
    "- Majority of participants were married and active.\n",
    "- Most participants are married and from urban areas.\n",
    "- Gender and marital trends show clear demographic preferences.\n",
    "- Engagement highest in top cities like Hyderabad and Bangalore.\n",
    "- Enrollment trend shows steady growth over years.\n"
   ]
  }
 ],
 "metadata": {
  "kernelspec": {
   "display_name": "Python 3 (ipykernel)",
   "language": "python",
   "name": "python3"
  },
  "language_info": {
   "codemirror_mode": {
    "name": "ipython",
    "version": 3
   },
   "file_extension": ".py",
   "mimetype": "text/x-python",
   "name": "python",
   "nbconvert_exporter": "python",
   "pygments_lexer": "ipython3",
   "version": "3.12.7"
  }
 },
 "nbformat": 4,
 "nbformat_minor": 5
}
